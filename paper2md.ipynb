{
 "cells": [
  {
   "cell_type": "markdown",
   "id": "e165b97d",
   "metadata": {},
   "source": [
    "# pdf2md"
   ]
  },
  {
   "cell_type": "code",
   "execution_count": 34,
   "id": "920925e7",
   "metadata": {},
   "outputs": [
    {
     "name": "stderr",
     "output_type": "stream",
     "text": [
      "/home/zyx/anaconda3/envs/paperins/lib/python3.10/site-packages/tqdm/auto.py:21: TqdmWarning: IProgress not found. Please update jupyter and ipywidgets. See https://ipywidgets.readthedocs.io/en/stable/user_install.html\n",
      "  from .autonotebook import tqdm as notebook_tqdm\n"
     ]
    }
   ],
   "source": [
    "from marker.converters.pdf import PdfConverter\n",
    "from marker.models import create_model_dict\n",
    "from marker.output import text_from_rendered"
   ]
  },
  {
   "cell_type": "code",
   "execution_count": 35,
   "id": "80f98d60",
   "metadata": {},
   "outputs": [
    {
     "name": "stdout",
     "output_type": "stream",
     "text": [
      "Loaded layout model s3://layout/2025_02_18 on device cuda with dtype torch.float16\n",
      "Loaded texify model s3://texify/2025_02_18 on device cuda with dtype torch.float16\n",
      "Loaded recognition model s3://text_recognition/2025_02_18 on device cuda with dtype torch.float16\n",
      "Loaded table recognition model s3://table_recognition/2025_02_18 on device cuda with dtype torch.float16\n",
      "Loaded detection model s3://text_detection/2025_02_28 on device cuda with dtype torch.float16\n",
      "Loaded detection model s3://inline_math_detection/2025_02_24 on device cuda with dtype torch.float16\n"
     ]
    }
   ],
   "source": [
    "converter = PdfConverter(\n",
    "    artifact_dict=create_model_dict(),\n",
    ")"
   ]
  },
  {
   "cell_type": "code",
   "execution_count": 57,
   "id": "7c8ccae1",
   "metadata": {},
   "outputs": [
    {
     "name": "stderr",
     "output_type": "stream",
     "text": [
      "Recognizing layout: 100%|██████████| 2/2 [00:02<00:00,  1.08s/it]\n",
      "Running OCR Error Detection: 100%|██████████| 2/2 [00:00<00:00, 151.88it/s]\n",
      "Detecting bboxes: 0it [00:00, ?it/s]\n",
      "Detecting bboxes: 0it [00:00, ?it/s]\n",
      "Recognizing tables: 100%|██████████| 1/1 [00:00<00:00,  4.01it/s]\n"
     ]
    }
   ],
   "source": [
    "import os\n",
    "\n",
    "directory = \"./data/3\"\n",
    "pdf = [i for i in os.listdir(directory) if i.endswith(\".pdf\")]\n",
    "pdf_path = os.path.join(directory, pdf[0])\n",
    "rendered = converter(pdf_path)\n",
    "text, _, images = text_from_rendered(rendered)"
   ]
  },
  {
   "cell_type": "code",
   "execution_count": 15,
   "id": "7c065776",
   "metadata": {},
   "outputs": [],
   "source": [
    "import re\n",
    "\n",
    "def clean_markdown(text):\n",
    "    # 保留换行符拆行\n",
    "    lines = text.splitlines(keepends=True)\n",
    "\n",
    "    # 删除 Markdown 和 HTML 图片\n",
    "    image_pattern = re.compile(r\"!\\[[^\\]]*\\]\\([^)]*\\)|<img[^>]*>\", re.IGNORECASE)\n",
    "    lines = [image_pattern.sub('', line) for line in lines]\n",
    "\n",
    "    # 找到第一个标题中包含 appendix/references 的行，截断其之前内容\n",
    "    cutoff_index = len(lines)\n",
    "    for i, line in enumerate(lines):\n",
    "        if '#' in line and any(keyword in line.lower() for keyword in ['appendix', 'references']):\n",
    "            cutoff_index = i\n",
    "            break\n",
    "\n",
    "    cleaned_lines = lines[:cutoff_index]\n",
    "\n",
    "    return ''.join(cleaned_lines)  # 不做换行或压缩，保持原始结构"
   ]
  },
  {
   "cell_type": "code",
   "execution_count": 59,
   "id": "6a4c6a43",
   "metadata": {},
   "outputs": [],
   "source": [
    "texts = text\n",
    "text1 = clean_markdown(text)"
   ]
  },
  {
   "cell_type": "code",
   "execution_count": 60,
   "id": "12289873",
   "metadata": {},
   "outputs": [],
   "source": [
    "with open(os.path.join(directory, \"paper.txt\"), \"w\", encoding=\"utf-8\") as f:\n",
    "    f.write(text1)"
   ]
  },
  {
   "cell_type": "markdown",
   "id": "0c0d7916",
   "metadata": {},
   "source": [
    "# 生成问题"
   ]
  },
  {
   "cell_type": "code",
   "execution_count": null,
   "id": "3413640e",
   "metadata": {},
   "outputs": [],
   "source": [
    "from openai import OpenAI\n",
    "\n",
    "def gpt_chat(sys: str, user: str, provider: str) -> str:\n",
    "    config = {\n",
    "        \"doubao\": {\n",
    "            \"base_url\": \"https://ark.cn-beijing.volces.com/api/v3\",\n",
    "            \"api_key\": \"\",\n",
    "            \"model\": \"doubao-1-5-pro-32k-250115\"\n",
    "        },\n",
    "        \"kimi\": {\n",
    "            \"base_url\": \"https://api.moonshot.cn/v1\",\n",
    "            \"api_key\": \"\",\n",
    "            \"model\": \"moonshot-v1-32k\"\n",
    "        },\n",
    "        \"qwen72\": {\n",
    "            \"base_url\": \"https://dashscope.aliyuncs.com/compatible-mode/v1\",\n",
    "            \"api_key\": \"\",\n",
    "            \"model\": \"qwen2.5-72b-instruct\"\n",
    "        },\n",
    "        \"qwen32\": {\n",
    "            \"base_url\": \"https://dashscope.aliyuncs.com/compatible-mode/v1\",\n",
    "            \"api_key\": \"\",\n",
    "            \"model\": \"qwen2.5-32b-instruct\"\n",
    "        },\n",
    "        \"deepseek\": {\n",
    "            \"base_url\": \"https://api.deepseek.com/\",\n",
    "            \"api_key\": \"\",\n",
    "            \"model\": \"deepseek-chat\"\n",
    "        },\n",
    "        \"openai\": {\n",
    "            \"base_url\": \"https://api.gptsapi.net/v1\",\n",
    "            \"api_key\": \"\",\n",
    "            \"model\": \"gpt-4o\"\n",
    "        }\n",
    "    }\n",
    "\n",
    "    if provider not in config:\n",
    "        raise ValueError(f\"Unknown provider: {provider}\")\n",
    "\n",
    "    cfg = config[provider]\n",
    "    client = OpenAI(\n",
    "        base_url=cfg[\"base_url\"],\n",
    "        api_key=cfg[\"api_key\"]\n",
    "    )\n",
    "\n",
    "    completion = client.chat.completions.create(\n",
    "        model=cfg[\"model\"],\n",
    "        messages=[\n",
    "            {\"role\": \"system\", \"content\": sys},\n",
    "            {\"role\": \"user\", \"content\": user}\n",
    "        ]\n",
    "    )\n",
    "    return completion.choices[0].message.content\n"
   ]
  },
  {
   "cell_type": "code",
   "execution_count": 32,
   "id": "064aa79f",
   "metadata": {},
   "outputs": [],
   "source": [
    "GET_QUESTIONS_TEMPLATE =\"\"\"\n",
    "Hello, I need your expertise to generate a set of complex, thought-provoking questions based solely on the provided context.\n",
    "\n",
    "<context>{context}</context>\n",
    "\n",
    "Instructions:\n",
    "* Generate a list of questions that are entirely derived from the information, data, and methods explicitly provided in the context.\n",
    "* Ensure that each question requires no assumptions or information beyond what is stated in the context.\n",
    "* Each question must be complex, requiring multiple steps of analysis, synthesis, or inference to answer, such as comparing data across tables, interpreting methodological implications, or deriving conclusions from results.\n",
    "* Enclose each question within <question></question> tags.\n",
    "* Do not number the questions.\n",
    "* Generate up to {max_questions} questions.\n",
    "\"\"\"\n",
    "\n",
    "GET_QUESTIONS_SYSTEM_MESSAGE = \"\"\"\n",
    "You are a distinguished professor with expertise in analyzing academic papers and formulating rigorous, context-bound questions. \n",
    "Your role is to generate questions that are intellectually challenging, requiring deep analysis of the provided context alone. \n",
    "You must not rely on external knowledge or make assumptions beyond the explicit content of the context. \n",
    "Your primary objective is to create questions that demand multiple steps of reasoning, while ensuring all questions are fully grounded in the context.\n",
    "\"\"\""
   ]
  },
  {
   "cell_type": "code",
   "execution_count": 33,
   "id": "398f3aad",
   "metadata": {},
   "outputs": [],
   "source": [
    "with open(\"./data/3/paper.txt\", \"r\", encoding=\"utf-8\") as f:\n",
    "    text1 = f.read()"
   ]
  },
  {
   "cell_type": "code",
   "execution_count": 34,
   "id": "26403c28",
   "metadata": {},
   "outputs": [],
   "source": [
    "max_questions = 3\n",
    "context = GET_QUESTIONS_TEMPLATE.format(\n",
    "    context=text1,\n",
    "    max_questions=max_questions\n",
    ")\n",
    "questions = gpt_chat(\n",
    "    sys=GET_QUESTIONS_SYSTEM_MESSAGE,\n",
    "    user=context,\n",
    "    provider=\"deepseek\"\n",
    ")"
   ]
  },
  {
   "cell_type": "code",
   "execution_count": 103,
   "id": "6195f534",
   "metadata": {},
   "outputs": [],
   "source": [
    "import re\n",
    "def extract_html_tags(text, keys):\n",
    "    content_dict = {}\n",
    "    keys = set(keys)\n",
    "    for key in keys:\n",
    "        pattern = f\"<{key}>(.*?)</{key}>\"\n",
    "        matches = re.findall(pattern, text, re.DOTALL)\n",
    "        # print(matches)\n",
    "        if matches:\n",
    "            content_dict[key] = [match.strip() for match in matches]\n",
    "    return content_dict\n",
    "\n",
    "def _validate_tasks(out):\n",
    "    questions = extract_html_tags(out, [\"question\"])\n",
    "    if \"question\" not in questions:\n",
    "        return (\n",
    "            out,\n",
    "            False,\n",
    "            f\"Error: you did not generate questions within the <question></question> tags\",\n",
    "        )\n",
    "    questions = questions[\"question\"]\n",
    "    # Check that there are at most max_questions questions\n",
    "    if len(questions) > 3:\n",
    "        return (\n",
    "            out,\n",
    "            False,\n",
    "            f\"Error: you can only ask at most {3} questions, but you asked {len(questions)}.\",\n",
    "        )\n",
    "\n",
    "    return (questions, out), True, \"\""
   ]
  },
  {
   "cell_type": "code",
   "execution_count": 35,
   "id": "e1895340",
   "metadata": {},
   "outputs": [
    {
     "data": {
      "text/plain": [
       "['How do the disparities in CO2 storage indicator (CSI) assessments and historical oil and gas production (HOGP) between high-income and lower-income countries reflect underlying inequalities in the global development of carbon dioxide geological storage (CGS), and what implications do these disparities have for climate justice and the design of international carbon market policies?',\n",
       " 'Given that no countries plan to use subsurface carbon dioxide removal (CDR) alone without fossil CCS, and that high-income countries dominate commitments to both fossil CCS and subsurface CDR, what does this reveal about the perceived technological and economic barriers to standalone subsurface CDR deployment, and how might this imbalance affect the global ability to meet IPCC climate mitigation pathways?',\n",
       " 'Why might countries with high historical oil and gas production (HOGP) be less likely to submit Long-Term Low-Emission Development Strategies (LT-LEDS) despite their higher likelihood of firm CGS commitments when they do submit, and what does this suggest about the relationship between hydrocarbon dependence, climate policy engagement, and future CGS development?']"
      ]
     },
     "execution_count": 35,
     "metadata": {},
     "output_type": "execute_result"
    }
   ],
   "source": [
    "a= _validate_tasks(questions)\n",
    "a[0][0]"
   ]
  },
  {
   "cell_type": "code",
   "execution_count": 36,
   "id": "b6d67379",
   "metadata": {},
   "outputs": [],
   "source": [
    "with open(\"./data/3/question.txt\", \"w\", encoding=\"utf-8\") as f:\n",
    "    for question in a[0][0]:\n",
    "        f.write(question + \"\\n\")"
   ]
  },
  {
   "cell_type": "markdown",
   "id": "a548faab",
   "metadata": {},
   "source": [
    "# 回答问题"
   ]
  },
  {
   "cell_type": "code",
   "execution_count": null,
   "id": "7d5e1f52",
   "metadata": {},
   "outputs": [],
   "source": [
    "GET_ANSWER_TEMPLATE = \"\"\"\n",
    "Hello, I need your expertise to provide detailed, multi-step answers to the questions based solely on the provided context, showcasing a clear and logical reasoning process.\n",
    "\n",
    "<questions>{questions}</questions>\n",
    "\n",
    "<context>{context}</context>\n",
    "\n",
    "Instructions:\n",
    "- Provide a comprehensive answer to each question, addressing all aspects and subcomponents of the question.\n",
    "- Ensure the answer is entirely derived from the information, data, and methods explicitly provided in the context, with no assumptions or information beyond the context.\n",
    "- Answer in a logical, multi-step manner, explicitly labeling each step (e.g., \"Step 1: Extract relevant data,\" \"Step 2: Analyze relationships\"). Each step should:\n",
    "  - Clearly explain the reasoning process, including why specific data or methods are used.\n",
    "  - Reference specific parts of the context (e.g., tables, figures, sections) to support the analysis.\n",
    "  - Build toward the final conclusion through analysis, synthesis, or inference.\n",
    "- Ensure the steps demonstrate complex reasoning, such as comparing multiple data points, interpreting methodological implications, or deriving conclusions from results.\n",
    "- Do not include content unrelated to answering the question or unsupported by the context.\n",
    "- Answer questions in the same order they were asked.\n",
    "- Enclose each answer within <answer></answer> tags.\n",
    "- Do not number the answers.\n",
    "\"\"\"\n",
    "\n",
    "GET_ANSWER_SYSTEM_MESSAGE = \"\"\"\n",
    "You are an expert in providing logical, multi-step reasoning and detailed answers to complex questions based solely on given contexts. \n",
    "Your role is to thoroughly analyze the questions and context, generating answers that are accurate, comprehensive, and strictly derived from the context without any external assumptions. \n",
    "Your answers must showcase a clear reasoning process, with each step explicitly labeled and explained, demonstrating complex analysis such as synthesizing data from tables or figures, evaluating methodological implications, or deriving insights from results. \n",
    "Your goal is to deliver answers that are logical, well-structured, transparent in their reasoning, and easy to follow, ensuring the inference process is fully visible and grounded in the context.\n",
    "\"\"\""
   ]
  },
  {
   "cell_type": "code",
   "execution_count": 38,
   "id": "c88c1259",
   "metadata": {},
   "outputs": [
    {
     "name": "stdout",
     "output_type": "stream",
     "text": [
      "1. How do the disparities in CO2 storage indicator (CSI) assessments and historical oil and gas production (HOGP) between high-income and lower-income countries reflect underlying inequalities in the global development of carbon dioxide geological storage (CGS), and what implications do these disparities have for climate justice and the design of international carbon market policies?\n",
      "2. Given that no countries plan to use subsurface carbon dioxide removal (CDR) alone without fossil CCS, and that high-income countries dominate commitments to both fossil CCS and subsurface CDR, what does this reveal about the perceived technological and economic barriers to standalone subsurface CDR deployment, and how might this imbalance affect the global ability to meet IPCC climate mitigation pathways?\n",
      "3. Why might countries with high historical oil and gas production (HOGP) be less likely to submit Long-Term Low-Emission Development Strategies (LT-LEDS) despite their higher likelihood of firm CGS commitments when they do submit, and what does this suggest about the relationship between hydrocarbon dependence, climate policy engagement, and future CGS development?\n",
      "\n"
     ]
    }
   ],
   "source": [
    "qs=\"\"\n",
    "for idx in range(len(a[0][0])):\n",
    "    qs += f\"{idx+1}. {a[0][0][idx]}\\n\"\n",
    "\n",
    "print(qs)"
   ]
  },
  {
   "cell_type": "code",
   "execution_count": 39,
   "id": "76ded39c",
   "metadata": {},
   "outputs": [],
   "source": [
    "qs_context = GET_ANSWER_TEMPLATE.format(\n",
    "    questions=qs,\n",
    "    context=text1\n",
    ")\n",
    "answer = gpt_chat(sys=GET_ANSWER_SYSTEM_MESSAGE, user=qs_context, provider=\"deepseek\")"
   ]
  },
  {
   "cell_type": "code",
   "execution_count": 40,
   "id": "19d1732a",
   "metadata": {},
   "outputs": [],
   "source": [
    "final = extract_html_tags(answer, [\"answer\"])"
   ]
  },
  {
   "cell_type": "code",
   "execution_count": 43,
   "id": "38672ff5",
   "metadata": {},
   "outputs": [],
   "source": [
    "import json\n",
    "import os\n",
    "\n",
    "qs_ans=[]\n",
    "\n",
    "for idx in range(len(a[0][0])):\n",
    "    tmp ={}\n",
    "    tmp[\"question\"] = a[0][0][idx]\n",
    "    # tmp[\"answer\"] = re.sub(r'\\b\\d+\\.\\s-', '',final[\"answer\"][idx])\n",
    "    tmp[\"answer\"] = final[\"answer\"][idx]\n",
    "    qs_ans.append(tmp)\n",
    "directory = \"./data/3\"\n",
    "with open(os.path.join(directory,\"data.json\"), \"w\", encoding=\"utf-8\") as f:\n",
    "    \n",
    "    json.dump(qs_ans, f, ensure_ascii=False, indent=4)"
   ]
  },
  {
   "cell_type": "markdown",
   "id": "3836dfaf",
   "metadata": {},
   "source": [
    "# 评估三元对"
   ]
  },
  {
   "cell_type": "code",
   "execution_count": 82,
   "id": "7fb669b1",
   "metadata": {},
   "outputs": [],
   "source": [
    "GET_EVALUATE_TEMPLATE = \"\"\"\n",
    "Hello, I need your help to evaluate the <question> and <answer> based on the provided <context>, focusing on scoring and analyzing errors in the answer's steps with actionable improvement suggestions.\n",
    "\n",
    "<context>\n",
    "{context}\n",
    "</context>\n",
    "\n",
    "<question>\n",
    "{question}\n",
    "</question>\n",
    "\n",
    "<answer>\n",
    "{answer}\n",
    "</answer>\n",
    "\n",
    "Instructions:\n",
    "- Evaluate the question and answer against the following strict requirements:\n",
    "    1. The question must be entirely derived from the context's explicit information, data, or methods, with no external assumptions or information.\n",
    "    2. The question must be complex, requiring multi-step analysis, synthesis, or inference (e.g., comparing data across sections, interpreting methods, or deriving conclusions from multiple data points).\n",
    "    3. The answer must fully and accurately address the question using only context-provided information, demonstrating rigorous, logical, multi-step reasoning that matches the question's complexity.\n",
    "- Assign two scores from 1 to 10:\n",
    "  - **Question Score**: Reflects how well the question meets requirements 1 and 2.\n",
    "    - 1 = Relies heavily on external assumptions or is unrelated to the context.\n",
    "    - 5 = Partially context-based or insufficiently complex (e.g., requires only simple recall or single-step analysis).\n",
    "    - 8 = Mostly context-based and complex, with minor reliance on assumptions or slightly insufficient depth.\n",
    "    - 10 = Fully context-based, highly complex, requiring rigorous multi-step analysis or synthesis.\n",
    "  - **Answer Score**: Reflects how accurately, completely, and rigorously the answer addresses the question per requirement 3.\n",
    "    - 1 = Completely incorrect, irrelevant, or unrelated to the context/question.\n",
    "    - 5 = Partially correct, missing key steps, or lacking rigorous multi-step reasoning.\n",
    "    - 8 = Mostly correct with minor omissions, inaccuracies, or insufficient reasoning depth.\n",
    "    - 10 = Fully correct, complete, context-supported, with clear, logical, multi-step reasoning.\n",
    "- Provide a concise analysis of errors in the answer's steps:\n",
    "  - Identify each steps that are incorrect, incomplete, or insufficiently rigorous (e.g., introducing external assumptions, misinterpreting data, omitting key context, or weak reasoning).\n",
    "  - For each questionable steps, provide a clear, actionable improvement suggestion, specifying how to correct the step using context-specific information (e.g., \"Use data from Table X to support the conclusion\").\n",
    "  - Do not analyze the question or provide detailed context quotes unless necessary to explain the improvement.\n",
    "  - If the answer lacks explicit steps, note this as an error and suggest how to structure the reasoning.\n",
    "- Enclose evaluation within <evaluation></evaluation> tags.\n",
    "- Output format:\n",
    "  - Question Score: [1-10]\n",
    "  - Answer Score: [1-10]\n",
    "  - Answer Error Analysis: [Description of errors in specific steps, followed by actionable improvement suggestions]\n",
    "- Example Output:\n",
    "  - Question Score: 5\n",
    "  - Answer Score: 6\n",
    "  - Answer Error Analysis: Step 2 introduces external irrigation methods not in the context; revise to use irrigation data from paragraph 3. Step 3 misses biodiversity data; include metrics from Table 4 to strengthen the conclusion.\n",
    "\"\"\"\n",
    "\n",
    "GET_EVALUATE_SYSTEM_MESSAGE = \"\"\"\n",
    "You are an expert in evaluating questions and answers based on provided contexts, focusing on scoring and analyzing errors in the answer's steps with actionable improvement suggestions.\n",
    "You should make your output satisfy the output format strictly.\n",
    "\"\"\""
   ]
  },
  {
   "cell_type": "code",
   "execution_count": 83,
   "id": "f73b4308",
   "metadata": {},
   "outputs": [],
   "source": [
    "import json\n",
    "\n",
    "file_index = 2\n",
    "with open(f\"./data/{file_index}/data.json\",\"r\",encoding=\"utf-8\") as f:\n",
    "    data=json.load(f)\n",
    "\n",
    "with open(f\"./data/{file_index}/paper.txt\",\"r\",encoding=\"utf-8\") as f :\n",
    "    context=f.read()"
   ]
  },
  {
   "cell_type": "code",
   "execution_count": 84,
   "id": "7b53483a",
   "metadata": {},
   "outputs": [
    {
     "name": "stdout",
     "output_type": "stream",
     "text": [
      "\n",
      "Hello, I need your help to evaluate the <question> and <answer> based on the provided <context>, focusing on scoring and analyzing errors in the answer's steps with actionable improvement suggestions.\n",
      "\n",
      "<context>\n",
      "# **nature food**\n",
      "\n",
      "# **Vegans, vegetarians, fish-eaters and meat-eaters in the UK show discrepant environmental impacts**\n",
      "\n",
      "Received: 15 June 2022\n",
      "\n",
      "Accepted: 12 June 2023\n",
      "\n",
      "Published online: 20 July 2023\n",
      "\n",
      " [C](http://crossmark.crossref.org/dialog/?doi=10.1038/s43016-023-00795-w&domain=pdf)heck for updates\n",
      "\n",
      "**Peter Scarborough  1,2 , Michael Clark <sup>3</sup> , Linda Cobiac <sup>4</sup> , Keren Papier <sup>5</sup> , Anika Knuppel  <sup>7</sup> , John Lynch6 , Richard Harrington1,2, Tim Key <sup>5</sup> & Marco Springmann <sup>3</sup>**\n",
      "\n",
      "Modelled dietary scenarios often fail to refect true dietary practice and do not account for variation in the environmental burden of food due to sourcing and production methods. Here we link dietary data from a sample of 55,504 vegans, vegetarians, fsh-eaters and meat-eaters with food-level data on greenhouse gas emissions, land use, water use, eutrophication risk and potential biodiversity loss from a review of 570 life-cycle assessments covering more than 38,000 farms in 119 countries. Our results include the variation in food production and sourcing that is observed in the review of life-cycle assessments. All environmental indicators showed a positive association with amounts of animal-based food consumed. Dietary impacts of vegans were 25.1% (95% uncertainty interval, 15.1–37.0%) of high meat-eaters (≥100 g total meat consumed per day) for greenhouse gas emissions, 25.1% (7.1–44.5%) for land use, 46.4% (21.0–81.0%) for water use, 27.0% (19.4–40.4%) for eutrophication and 34.3% (12.0–65.3%) for biodiversity. At least 30% diferences were found between low and high meat-eaters for most indicators. Despite substantial variation due to where and how food is produced, the relationship between environmental impact and animal-based food consumption is clear and should prompt the reduction of the latter.\n",
      "\n",
      "The substantial impact of the global food system on the environment is well established. It is estimated that the food system was responsible for 18 Gt of carbon dioxide equivalent (CO2e) greenhouse gas (GHG) emissions in 2015, comprising 34% of total global GHG emissions that year[1](#page-7-0) . The food system is also responsible for 70% of the world's freshwater use and 78% of freshwater pollution[2,](#page-7-1)[3](#page-7-2) . About three quarters of the World's ice-free land area has been affected by human use, primarily agricultur[e4](#page-7-3) , and land-use change (primarily deforestation for agriculture) is a major source of biodiversity loss[5](#page-7-4),[6](#page-7-5) .\n",
      "\n",
      "To feed a growing global population while remaining within proposed safe environmental boundaries for GHG emissions, land use, water use, water pollution and biodiversity loss, we will need changes in diet[s7](#page-7-6) . Other means to reduce the environmental impact of the food system (for example, technological advances, closing yield gaps, reducing food waste) will not be enough without major dietary change[7,](#page-7-6)[8](#page-7-7) . The environmental impact of animal-based foods is generally higher than for plant-based foods because of both direct processes related to livestock management (for example, methane (CH4) production by\n",
      "\n",
      "1 Nuffield Department of Primary Care Health Sciences, University of Oxford, Radcliffe Observatory Quarter, Oxford, UK. 2 NIHR Oxford Health Biomedical Research Centre at Oxford, Warneford Hospital, Oxford, UK. 3 Oxford Martin School, University of Oxford, Oxford, UK. 4 Griffith University, Southport, Queensland, Australia. 5 Cancer Epidemiology Unit, Nuffield Department of Population Health, University of Oxford, Oxford, UK. 6 Nature-based Solutions Initiative, Department of Biology, University of Oxford, Oxford, UK. 7 Independent Researcher: Anika Knuppel.  e-mail: [peter.scarborough@phc.ox.ac.uk](mailto:peter.scarborough@phc.ox.ac.uk) ruminants) and indirect processes through the inefficiency of using crops for animal feed rather than directly for human consumptio[n3,](#page-7-2)[9](#page-7-8)[,10.](#page-7-9) For this reason, proposed diets for global sustainable food production require most high-income countries to radically reduce consumption of animal-based foods and converge on levels that are higher than currently consumed in many low-income countries[8](#page-7-7) .\n",
      "\n",
      "Systematic reviews of modelled dietary scenarios have shown that vegan and vegetarian diets have substantially lower GHG emissions, land use and water use requirements than meat-containing diets[11,](#page-7-10)[12](#page-7-11) and that diets with reduced animal-based foods tend to be healthier and have lower environmental impac[t13.](#page-7-12) However, modelled dietary scenarios may not reflect true dietary practice, and modelled environmental and health outcomes can be strongly affected by assumptions made by the modellers. Also, previous modelled dietary scenarios have not reflected the considerable variation in environmental indicators due to both region of food production and agricultural production methods[3](#page-7-2) and therefore will have underestimated the uncertainty associated with their findings. While we continue to use average values of environmental impact for food categories, we cannot know whether the observed differences in environmental impact between dietary groups still exist after accounting for variation in food production systems. We therefore need to link data from dietary surveys of real-life dietary patterns with large datasets of environmental indicators to ascertain whether the relationship between animal-based food consumption and environmental outcomes shown in modelling studies is robust.\n",
      "\n",
      "Previously, we estimated the dietary GHG emissions associated with real-life diet groups in the UK[14](#page-7-13). These estimates only captured one aspect of the environmental impact of food systems, and the data for GHG emissions were derived from a single source with no information about variation within individual food groups due to sourcing or productio[n15.](#page-7-14) Also, GHG emissions data were not presented as disaggregated gases, losing climatically important information[16](#page-7-15). In this paper, we link a validated food frequency questionnaire (FFQ) to estimates from a review of 570 life-cycle assessments[3](#page-7-2) (LCAs) to estimate the GHG emissions (CH4, nitrous oxide (N2O) and carbon dioxide (CO2), in addition to combined CO2e emissions), water use, land use, water pollution and biodiversity impact associated with observed diets of vegans, vegetarians, fish-eaters and meat-eaters in the UK (Fig. [1](#page-1-0)). Our approach allows for direct comparisons of the environmental indicators for each diet group, incorporating uncertainty due to food sourcing and production, and individual-level diet choice.\n",
      "\n",
      "#### **Results**\n",
      "\n",
      "The participants and their dietary intake are described in Table [1.](#page-2-0) Vegans and vegetarians were younger than fish-eaters and meat-eaters, and vegans reported a lower dietary intake of energy than all other diet groups. Fish consumption was similar in fish-eaters and low meat-eaters (with higher levels of consumption in medium and high meat-eaters), suggesting that fish-eaters were not replacing meat with fish. While total dairy consumption was lower in vegetarians and fish-eaters compared to meat-eaters, there was higher consumption of cheese in these two groups.\n",
      "\n",
      "Estimates of environmental indicators of the diet groups are shown in Tables [2](#page-3-0)[–4,](#page-4-0) and relative impacts compared to the high meat-eaters are shown in Figs. [2](#page-3-1) and [3.](#page-5-0) The uncertainty associated with sourcing and production is highly correlated between diet groups. This is because food-level draws that produce Monte Carlo iterations with low estimates for the vegan diet group are highly likely to produce low estimates of environmental impact for all other diet groups. For this reason, the results in Tables [2–](#page-3-0)[4](#page-4-0) can be used to show uncertainty in absolute estimates of environmental impact for any single diet group, but for comparisons between diet groups the results in Figs. [2](#page-3-1) and [3](#page-5-0) should be used (which account for the correlation in the uncertainty between diet groups). The results shown in Figs. [2](#page-3-1) and [3](#page-5-0) represent re-analyses of the dataset and cannot simply be calculated from the\n",
      "\n",
      "\n",
      "\n",
      "<span id=\"page-1-0\"></span>**Fig. 1 | Summary of data linking process.** Flow chart shows how data from different sources have been linked for these analyses. Further information about the linkages is provided in the Supplementary Data 1 (Supplementary Section 1).\n",
      "\n",
      "data presented in Tables [2–](#page-3-0)[4](#page-4-0). Tables with full results for these figures are provided in Supplementary Tables 8–10.\n",
      "\n",
      "For GHG emissions, there was a positive association with amount of animal-based food consumption (Table [2,](#page-3-0) Fig. [2](#page-3-1) and Supplementary Table 8). Dietary CO2 emissions for vegans were 30.3% (17.0–45.5%) of the high meat-eaters group. There were also substantial differences in dietary CO2 emissions between groups of meat-eaters. Dietary CO2 emissions of low meat-eaters were 57.2% (37.8–74.9%) of the high meat-eaters. CH4 is a GHG that, in terms of agricultural emissions, is predominantly associated with production of ruminants—it is therefore unsurprising to see wide disparities in CH4 emissions associated with the different diet groups. CH4 emissions from high meat-eaters were 15.3 (10.3–27.1) times higher than from vegan diets. N2O emissions are predominantly associated with fertilizer use, and therefore gradients in N2O emissions by diet group are mostly a result of the inefficiencies associated with raising crops for animal feed. This gradient is shallower than for CH4 but still substantial, with N2O emissions for high meat-eaters 3.6 (2.4–6.0) times higher than for vegans.\n",
      "\n",
      "Table [3](#page-4-1) (and Supplementary Table 9 for relative differences between diet groups) show that using the 100-year Global Temperature change Potential (GTP100) measure resulted in smaller aggregated GHG footprints for all diets, as would be expected given the lower valuation of both N2O and especially CH4 compared to 100-year Global Warming Potential (GWP100). The ranking of different dietary emission footprints remained the same, but the relative advantage of vegans over diets incorporating animal products decline slightly, with the high meat-eaters responsible for 3.6 (2.4–6.1) times greater GTP100\n",
      "\n",
      "#### **Total Vegans Vegetarians Fish-eaters Low meat-eaters (<50 g d−1) Medium meat-eaters (50–99 g d−1) High meat-eaters (≥100 g d−1)** *N* 55,504 2,041 15,751 8,123 9,332 11,971 8,286 Age, mean (s.d.) 44.6 (13.7) 37.3 (13.1) 38.6 (12.7) 41.8 (12.9) 47.5 (13.3) 49.8 (12.6) 49.7 (12.3) Women (%) 77.2% 63.4% 76.9% 82.2% 80.0% 77.8% 72.1% Energy intake (kcal d−1), mean (s.d.) 1,931 (537) 1,754 (556) 1,879 (530) 1,897 (528) 1,816 (510) 1,940 (502) 2,222 (530) Grains from bread, cereal, rice and pasta (g d−1), mean (s.d.) 213 (103) 251 (117) 235 (103) 231 (105) 204 (103) 189 (95) 190 (94.0) Potatoes (g d−1), mean (s.d.) 82.6 (54.5) 81.6 (67.1) 76.6 (52.1) 72.6 (51.0) 71.6 (49.1) 89.3 (52.2) 107 (58.9) Beans and pulses (g d−1), mean (s.d.) 32.4 (34.3) 60.2 (48.9) 43.6 (40.2) 37.1 (33.4) 25.2 (28.2) 21.6 (24.2) 23.4 (25.2) Fruit and vegetables (portions per day), mean (s.d.) 6.8 (3.8) 8.7 (5.6) 7.1 (3.9) 7.3 (3.9) 6.9 (4.0) 6.3 (3.2) 6.1 (3.2) Meat and meat products including poultry (g d−1), mean (s.d.) 42.0 (52.9) 0.3 (4.4)a 0.4 (5.8)a 2.0 (10.7)a 28.3 (12.9) 74.0 (14.0) 140 (39.7) Fish and fish products (g d−1), mean (s.d.) 28.4 (31.6) 0.5 (4.6)a 0.6 (5.1)a 38.9 (33.6) 38.6 (29.5) 43.7 (28.6) 44.2 (29.7) Cheese (g d−1), mean (s.d.) 23.5 (22.1) 1.5 (7.0)a 30.0 (25.2) 27.3 (24.0) 22.8 (20.5) 19.8 (18.0) 19.3 (17.1) Animal milk (ml d−1), mean (s.d.) 288 (198) 7.2 (46.1)a 260 (203) 273 (190) 300 (186) 331 (182) 349 (187) Total yogurt (g d−1), mean (s.d.) 33.7 (40.8) 2.2 (9.7)a 33.7 (40.9) 37.6 (42.5) 38.1 (43.5) 34.4 (39.3) 31.8 (39.2)\n",
      "\n",
      "<span id=\"page-2-0\"></span>**Table 1 | Baseline dietary intakes of 55,504 EPIC-Oxford participants overall and by diet group**\n",
      "\n",
      "*P* value for difference calculated by analysis of variance for all variables except '% women', which is calculated by Pearson's chi-squared test. The *P* heterogeneity between diet groups was <0.001 for all variables. a Intakes of these foods in these groups are generally nil, but small values are possible as a result of self-assigned diet groups and questionnaire design.\n",
      "\n",
      "emissions than vegans, and low meat-eaters 1.8 (1.4–2.6) times greater. For the 20-year Global Warming Potential (GWP20), all footprints were greater, and the relative difference between vegan and other footprints was even more pronounced: high meat-eater diets were 5.1 (3.5–8.4) times greater than vegans.\n",
      "\n",
      "Table [4,](#page-4-0) Fig. [3](#page-5-0) and Supplementary Table 10 show results for land use, water use, eutrophication and biodiversity impact, all of which show trends in environmental burden from vegans (lowest) to high meat-eaters (highest). For both land use and eutrophication, there is a large difference between the high meat-eaters and all other groups. For eutrophication, the low-meat diet has an impact that is 57.4% (49.6– 68.4%) of the high-meat-eating group. For land use, the impact of low meat-eaters is 43.8% (20.7–65.4%) of the high meat-eaters. For both water use and biodiversity impact, there are much bigger gaps for the plant-based groups (for water use, the gap emerges for vegetarians and vegans, whereas for biodiversity impact, it applies to vegans only). However, for both of these environmental indicators, there is far less certainty in both absolute estimates for individual diet groups and also in comparisons between diet groups. Figure [3](#page-5-0) shows how this uncertainty propagates, with far wider uncertainty intervals for water use and biodiversity impact than for other measures. For example, the biodiversity impact of vegetarian diets is estimated to be 64.8% of high meat-eaters, but the uncertainty interval (24.5–102.3%) overlap with parity between the groups. The larger uncertainty intervals for these two environmental indicators reflect wide variations in the food-level LCAs.\n",
      "\n",
      "The results of our sensitivity analyses where we did not standardize diets to 2,000 kcal d−1 are shown in Supplementary Section 3 (with equivalent results for the regression-based results in Supplementary Section 2). As shown in Table [1,](#page-2-0) the measured kilocalorie content of the diet is higher in meat-eaters than in vegetarians and vegans, and high meat-eaters have higher measured kilocalorie intake than low meat-eaters. Therefore, it is unsurprising that not standardizing for kilocalorie intake amplifies the differences in environmental impact across diet groups. In the sensitivity analysis, the environmental footprint of vegan diets is between 5% (CH4) and 38% (water use) of the footprint of high meat-eaters. For low meat-eaters, the impact is between 37% (land use) and 67% (water use) of high meat-eaters.\n",
      "\n",
      "#### **Discussion**\n",
      "\n",
      "#### **Statement of principal findings**\n",
      "\n",
      "Diet-related environmental impacts vary substantially by diet groups within this cohort of UK adults which includes a large sample of vegans, vegetarians and fish-eaters. For measures of GHG emissions, land use, water use, eutrophication and biodiversity, the level of impact is strongly associated with the amount of animal-based products that are consumed. Point estimates for vegan diets were associated with less than half of the impact of high-meat-eater (>100 g d−1) diets for all indicators, and 95% uncertainty intervals were below 50% for all outcomes except water use and biodiversity. There are also large differences in the environmental impact of diets for groups with lower (but still some) meat consumption. For GHG emissions, eutrophication and land use, the impact for low meat-eaters was at least 30% lower than for high meat-eaters. Large food-level variation in the environmental indicators due to region of origin and method of food production does not obscure differences between diet groups.\n",
      "\n",
      "#### **Implications of research**\n",
      "\n",
      "The UK has a legal commitment to a 78% reduction in GHG emissions by 2035 compared to 1990[17](#page-7-16) and of halting biodiversity loss by 203[018](#page-8-0). The UK Committee on Climate Change has stated that if the government is to achieve its ambitious targets for carbon reductions, then rapid progress must be made across all sectors including implementing measures to encourage consumers to shift diets[19](#page-8-1). Shifts in diets towards plant-based consumption was also emphasized in the 2021 National Food Strategy, which called for a 30% reduction in meat consumption[20.](#page-8-2) Previous scenario modelling work has shown that global improvements in food technology, closure of yield gaps and reductions in food waste could potentially reduce dietary GHG emissions by about 15%, primarily through adoption of more efficient technologies in lowand middle-income countries[7](#page-7-6) . Our results suggest that much bigger reductions can be achieved by increasing the uptake of plant-based diets, which aligns with other results from this field[7](#page-7-6)[,8](#page-7-7)[,11.](#page-7-10)\n",
      "\n",
      "There are many population-level interventions that could be implemented to support transitions towards lower meat diets. The UK Health Alliance on Climate Change recommends that sustainable\n",
      "\n",
      "#### <span id=\"page-3-0\"></span>**Table 2 | Dietary GHG emissions (CO2, CH4 and N2O) by diet group, standardized to 2,000 kcal and by age and gender**\n",
      "\n",
      "| Diet group         | GHG emissions     |                       |                   |  |  |\n",
      "|--------------------|-------------------|-----------------------|-------------------|--|--|\n",
      "|                    | CO2 (kg d−1)      | CH4 (g d−1)           | N2O (g d−1)       |  |  |\n",
      "| Vegans             | 2.16 (1.81, 2.94) | 4.39 (3.13, 6.37)     | 0.71 (0.54, 1.01) |  |  |\n",
      "| Vegetarians        | 3.33 (2.57, 4.46) | 20.21 (15.82, 40.45)  | 0.98 (0.68, 1.43) |  |  |\n",
      "| Fish-eaters        | 3.81 (3.00, 4.92) | 22.55 (17.84, 43.63)  | 1.09 (0.76, 1.52) |  |  |\n",
      "| Low meat-eaters    | 4.21 (3.25, 5.40) | 28.99 (23.48, 52.41)  | 1.29 (0.94, 1.76) |  |  |\n",
      "| Medium meat-eaters | 5.34 (3.86, 7.33) | 40.88 (32.83, 68.24)  | 1.73 (1.25, 2.36) |  |  |\n",
      "| High meat-eaters   | 7.28 (4.9, 12.23) | 65.40 (51.45, 113.89) | 2.62 (1.76, 3.90) |  |  |\n",
      "\n",
      "Results presented for all adults (*N* = 55,504). All results are presented as median (2.5th percentile, 97.5th percentile) from a Monte Carlo analysis with 1,000 iterations.\n",
      "\n",
      "diets should be supported by mandatory environmental labelling on foods, regulation of promotions and taxation of high-carbon foods[21.](#page-8-3) All of these are variants on policies aimed at increasing healthy diets that either have already been introduced (for example, traffic light labelling, the UK Soft Drink Industry Levy) or have been proposed in the UK Childhood Obesity Pla[n22.](#page-8-4) The UK Government's dietary policy is underpinned by its food-based dietary guidelines (FBDGs), known as the Eatwell Guide[23.](#page-8-5) A recent systematic review of national FBDGs found that the large majority are not compatible with the proposed downscaling of 'planetary boundaries' for food production—if the UK population consumed the diet recommended by the Eatwell Guide, it would not stay within boundaries for GHG emissions, water use, land use and eutrophication suggested by the paper[24](#page-8-6). Incorporating environmental sustainability into FBDGs (such as the Eatwell Guide proposed by Plant-based Health Professionals U[K25](#page-8-7)) may be the first step towards implementation of population-level policies that have been shown to support shifts away from animal-based food[s26.](#page-8-8)\n",
      "\n",
      "#### **Strengths and limitations**\n",
      "\n",
      "This paper uses one of the largest datasets available on the diets of vegans and vegetarians to compare the environmental impact of different diet groups over ten environmental measures. The analyses contribute to the literature that shows the benefit of low-meat diets for reduction of GHG emissions[14](#page-7-13), land use, water use, water pollution and biodiversity. The paper uses only empirical measures of diet, thereby verifying previous modelling work that has suggested multiple environmental benefits of low-meat diet[s7](#page-7-6)[,8](#page-7-7)[,27](#page-8-9). By using self-identification as vegan, vegetarian and fish-eater, we ensure that our methods include all dietary patterns within those categories including those that breach some of the definitions of the groups—this means our estimates are likely to reflect real dietary practices as opposed to comparison of idealized diet groups.\n",
      "\n",
      "A key strength of our analysis is that it incorporates the uncertainty around the environmental parameters drawn from a review of 570 LCAs covering results from over 38,000 farms in 119 countries covering five continents[3](#page-7-2) —henceforth, 'the Poore and Nemecek database'. Doing this shows that although uncertainty for any single food group is large, when this uncertainty is combined over multiple food groups to produce aggregated dietary estimates, we can still observe clear differences between diet groups. Our primary results are based on a Monte Carlo analysis where 1,000 estimates of each food's environmental impact are produced based on varying measures due to food sourcing and production methods. In our secondary results (shown in Supplementary Tables 1 and 2 and based on regression models that take the median estimate of the environmental parameter for each food group and ignore the underlying variation), not only are the confidence intervals much tighter than in the primary analysis, but the point estimates are also lower. The discrepancy between the two sets of results is due to the computational mathematics involved with combining multiple distributions, many of which are heavily right-skewed, all of which are bounded by zero, and in which negative\n",
      "\n",
      "\n",
      "\n",
      "<span id=\"page-3-1\"></span>**Fig. 2 | Relative environmental footprint from GHG emissions of diet groups in comparison to high meat-eaters (>100 g d−1).** Uncertainty intervals are 2.5th to 97.5th percentiles of a Monte Carlo analysis (*n* = 1,000).\n",
      "\n",
      "scalars are not possible (as negative consumption of food is not possible). Although each random draw from the food group distributions is equally likely to be either lower or higher than the median, draws that are higher than the median are, on average, further from the median than those that are lower. When summed, these random draws produce median estimates that are larger than the sum of the medians for the individual food groups. The same principle is shown by rolling two dice. For two normal 1–6 dice (which have no skew), the median score when rolling two dice is 7, which is twice the median score for rolling each dice separately (3½). However, consider rolling two 'doubling dice' from backgammon that are heavily right-skewed (with faces 2, 4, 8, 16, 32 and 64). Here, the median score when rolling two dice is 35, much higher than the sum of the median scores for each single dice (which is 12).\n",
      "\n",
      "Our secondary results (shown in the Supplementary Information) show that ignoring the uncertainty around food-level parameters can result in both underestimation of the uncertainty in diet-level outcomes and bias in the results which can reduce observed differences between diet groups. For example, our primary results show a difference in water use between high meat-eaters and vegans of 480 l d−1, with high meat-eaters consuming 2.2 times as much water as vegans, whereas the secondary results show an absolute difference of 210 l d−1 and a relative difference of 1.7. The issue of food-level uncertainty affects all areas of nutritional epidemiology that rely on food diaries or FFQs to estimate dietary intake. For example, estimates of sugar consumption produced by these methods do not account for uncertainty in the sugar level of food groups, but we know that wide variability in sugar levels for similar foods exists[28](#page-8-10).\n",
      "\n",
      "#### <span id=\"page-4-1\"></span>**Table 3 | Dietary GHG emissions by diet group aggregated using the GWP100, GTP100 and GWP20, standardized to 2,000 kcal and by age and gender**\n",
      "\n",
      "| Diet group         | GHG emissions        |                      |                      |  |  |\n",
      "|--------------------|----------------------|----------------------|----------------------|--|--|\n",
      "|                    | GWP100 CO2e (kg d−1) | GTP100 CO2e (kg d−1) | GWP20 CO2e (kg d−1)  |  |  |\n",
      "| Vegans             | 2.47 (2.09, 3.36)    | 2.42 (2.05, 3.29)    | 2.73 (2.30, 3.64)    |  |  |\n",
      "| Vegetarians        | 4.16 (3.31, 5.82)    | 3.84 (3.04, 5.19)    | 5.35 (4.37, 7.95)    |  |  |\n",
      "| Fish-eaters        | 4.74 (3.85, 6.27)    | 4.39 (3.54, 5.72)    | 6.08 (5.00, 8.73)    |  |  |\n",
      "| Low meat-eaters    | 5.37 (4.26, 6.99)    | 4.92 (3.87, 6.31)    | 7.08 (5.78, 9.93)    |  |  |\n",
      "| Medium meat-eaters | 7.04 (5.26, 9.39)    | 6.34 (4.71, 8.53)    | 9.55 (7.31, 13.04)   |  |  |\n",
      "| High meat-eaters   | 10.24 (7.04, 15.95)  | 8.97 (6.17, 14.15)   | 14.77 (10.23, 22.55) |  |  |\n",
      "\n",
      "Results presented for all adults (*N* = 55,504). All results are presented as median (2.5th percentile, 97.5th percentile) from a Monte Carlo analysis with 1,000 iterations.\n",
      "\n",
      "<span id=\"page-4-0\"></span>\n",
      "\n",
      "| Table 4   Land use, water use, eutrophication and biodiversity impact by diet group, standardized to 2,000 kcal and by age |  |\n",
      "|----------------------------------------------------------------------------------------------------------------------------|--|\n",
      "| and gender                                                                                                                 |  |\n",
      "\n",
      "| Diet group         | Land use (m2<br>d−1) | Water use (m3<br>d−1) | Eutrophication (gPO4e d−1) | Biodiversity impact (×10−12 species<br>extinction per day) |\n",
      "|--------------------|----------------------|-----------------------|----------------------------|------------------------------------------------------------|\n",
      "| Vegans             | 4.37 (3.59, 5.90)    | 0.41 (0.26, 0.77)     | 10.70 (8.61, 16.28)        | 1.12 (0.73, 2.55)                                          |\n",
      "| Vegetarians        | 6.01 (5.04, 9.32)    | 0.53 (0.38, 0.89)     | 17.27 (14.36, 22.09)       | 2.08 (1.19, 5.38)                                          |\n",
      "| Fish-eaters        | 6.31 (5.20, 9.68)    | 0.71 (0.48, 1.63)     | 21.09 (17.36, 26.52)       | 2.10 (1.24, 5.51)                                          |\n",
      "| Low meat-eaters    | 8.31 (5.91, 12.95)   | 0.71 (0.48, 1.70)     | 23.55 (19.17, 28.88)       | 2.29 (1.34, 5.90)                                          |\n",
      "| Medium meat-eaters | 11.28 (7.38, 26.32)  | 0.78 (0.54, 2.02)     | 29.61 (23.96, 36.62)       | 2.77 (1.56, 6.78)                                          |\n",
      "| High meat-eaters   | 16.78 (10.31, 60.84) | 0.89 (0.63, 2.04)     | 40.80 (31.26, 52.27)       | 3.69 (1.92, 8.92)                                          |\n",
      "\n",
      "Results presented for all adults (*N* = 55,504). All results are presented as median (2.5th percentile, 97.5th percentile) from a Monte Carlo analysis with 1,000 iterations.\n",
      "\n",
      "An additional contribution of our research was providing disaggregated GHG emissions and exploring multiple CO2-equivalence metrics, whereas most previous studies report only GWP100 CO2e. Reporting emissions only as aggregated GWP100 totals results in ambiguity in climate impacts[29](#page-8-11), whereas providing footprints under multiple metrics gives users insight into temporal differences where there are both short- and long-lived gases involved, as highlighted by the Life Cycle Initiative[30.](#page-8-12) As food system emissions contain important amounts of CH4, a relatively short-lived gas, metric selection can have a pronounced impact on CO2e emission reporting[31.](#page-8-13) Here, however, using the alternative pulse-emission metrics explored in this study did not greatly affect results, with a fairly small change in total footprints and relative performance between dietary groups. A caveat is that emissions data from the Poore and Nemecek database are not separated into different gases, and while they are categorized to broadly infer gas compositions (for example, assuming that the CO2e emissions reported for fertilizer application represented N2O, and enteric fermentation CO2e represented CH4), for other components we had to assume emissions were entirely CO2. We reiterate calls for studies on GHG emissions, particularly those relating to agriculture and food, to provide disaggregated emissions to enable the most reliable analyses[31.](#page-8-13)\n",
      "\n",
      "\n",
      "</context>\n",
      "\n",
      "<question>\n",
      "How does the variation in environmental impact metrics (GWP100, GTP100, GWP20) affect the relative differences observed between vegan diets and high meat-eater diets, and what does this imply about the temporal dynamics of greenhouse gas emissions from different dietary patterns?\n",
      "</question>\n",
      "\n",
      "<answer>\n",
      "**Question 1: How does the variation in environmental impact metrics (GWP100, GTP100, GWP20) affect the relative differences observed between vegan diets and high meat-eater diets, and what does this imply about the temporal dynamics of greenhouse gas emissions from different dietary patterns?**\n",
      "\n",
      "**Step 1: Extract relevant data on GHG metrics and dietary impacts**  \n",
      "The context provides data on three GHG aggregation metrics: GWP100 (100-year Global Warming Potential), GTP100 (100-year Global Temperature change Potential), and GWP20 (20-year Global Warming Potential). These metrics are applied to the dietary GHG emissions of vegans and high meat-eaters (Table 3 and Supplementary Table 9). Key findings include:\n",
      "- Vegan diets have lower GHG emissions across all metrics compared to high meat-eaters.  \n",
      "- Relative differences vary by metric:  \n",
      "  - GWP100: High meat-eaters emit 3.6 (2.4–6.1) times more than vegans.  \n",
      "  - GTP100: High meat-eaters emit 3.6 (2.4–6.1) times more than vegans.  \n",
      "  - GWP20: High meat-eaters emit 5.1 (3.5–8.4) times more than vegans.  \n",
      "\n",
      "**Step 2: Analyze the impact of metric choice on relative differences**  \n",
      "- **GWP100 vs. GTP100**: Both show similar relative differences (3.6×), but GTP100 yields smaller absolute emissions due to lower valuation of CH4 and N2O. This suggests that while the ranking of diets remains consistent, the absolute climate impact is sensitive to metric choice, particularly for short-lived gases like CH4.  \n",
      "- **GWP20**: The larger relative difference (5.1×) reflects the heightened weighting of CH4 in shorter timeframes, emphasizing the disproportionate near-term warming contribution of meat-based diets due to ruminant methane emissions.  \n",
      "\n",
      "**Step 3: Interpret temporal dynamics of emissions**  \n",
      "- The greater disparity under GWP20 highlights the **short-term climate impact** of high meat-eater diets, driven by CH4 from ruminants.  \n",
      "- The consistency of relative differences under GWP100 and GTP100 suggests that **longer-term impacts** (e.g., CO2 and N2O from fertilizer use) remain significant but are less temporally concentrated.  \n",
      "\n",
      "**Conclusion**: The choice of GHG metric affects the magnitude of observed differences, with GWP20 amplifying the near-term advantage of vegan diets due to methane’s short lifespan. This underscores that meat-based diets contribute more acutely to near-term warming, while plant-based diets offer broader temporal benefits.\n",
      "</answer>\n",
      "\n",
      "Instructions:\n",
      "- Evaluate the question and answer against the following strict requirements:\n",
      "    1. The question must be entirely derived from the context's explicit information, data, or methods, with no external assumptions or information.\n",
      "    2. The question must be complex, requiring multi-step analysis, synthesis, or inference (e.g., comparing data across sections, interpreting methods, or deriving conclusions from multiple data points).\n",
      "    3. The answer must fully and accurately address the question using only context-provided information, demonstrating rigorous, logical, multi-step reasoning that matches the question's complexity.\n",
      "- Assign two scores from 1 to 10:\n",
      "  - **Question Score**: Reflects how well the question meets requirements 1 and 2.\n",
      "    - 1 = Relies heavily on external assumptions or is unrelated to the context.\n",
      "    - 5 = Partially context-based or insufficiently complex (e.g., requires only simple recall or single-step analysis).\n",
      "    - 8 = Mostly context-based and complex, with minor reliance on assumptions or slightly insufficient depth.\n",
      "    - 10 = Fully context-based, highly complex, requiring rigorous multi-step analysis or synthesis.\n",
      "  - **Answer Score**: Reflects how accurately, completely, and rigorously the answer addresses the question per requirement 3.\n",
      "    - 1 = Completely incorrect, irrelevant, or unrelated to the context/question.\n",
      "    - 5 = Partially correct, missing key steps, or lacking rigorous multi-step reasoning.\n",
      "    - 8 = Mostly correct with minor omissions, inaccuracies, or insufficient reasoning depth.\n",
      "    - 10 = Fully correct, complete, context-supported, with clear, logical, multi-step reasoning.\n",
      "- Provide a concise analysis of errors in the answer's steps:\n",
      "  - Identify each steps that are incorrect, incomplete, or insufficiently rigorous (e.g., introducing external assumptions, misinterpreting data, omitting key context, or weak reasoning).\n",
      "  - For each questionable steps, provide a clear, actionable improvement suggestion, specifying how to correct the step using context-specific information (e.g., \"Use data from Table X to support the conclusion\").\n",
      "  - Do not analyze the question or provide detailed context quotes unless necessary to explain the improvement.\n",
      "  - If the answer lacks explicit steps, note this as an error and suggest how to structure the reasoning.\n",
      "- Enclose evaluation within <evaluation></evaluation> tags.\n",
      "- Output format:\n",
      "  - Question Score: [1-10]\n",
      "  - Answer Score: [1-10]\n",
      "  - Answer Error Analysis: [Description of errors in specific steps, followed by actionable improvement suggestions]\n",
      "- Example Output:\n",
      "  - Question Score: 5\n",
      "  - Answer Score: 6\n",
      "  - Answer Error Analysis: Step 2 introduces external irrigation methods not in the context; revise to use irrigation data from paragraph 3. Step 3 misses biodiversity data; include metrics from Table 4 to strengthen the conclusion.\n",
      "\n"
     ]
    }
   ],
   "source": [
    "ques_index = 0\n",
    "\n",
    "p = GET_EVALUATE_TEMPLATE.format(\n",
    "    context=context,\n",
    "    question=data[ques_index][\"question\"],\n",
    "    answer=data[ques_index][\"answer\"]\n",
    ")\n",
    "print(p)"
   ]
  },
  {
   "cell_type": "code",
   "execution_count": 85,
   "id": "28f1fb5c",
   "metadata": {},
   "outputs": [],
   "source": [
    "eval = gpt_chat(\n",
    "    sys=GET_EVALUATE_SYSTEM_MESSAGE,\n",
    "    user=p,\n",
    "    provider=\"openai\"\n",
    ")"
   ]
  },
  {
   "cell_type": "code",
   "execution_count": 93,
   "id": "b58039bc",
   "metadata": {},
   "outputs": [
    {
     "data": {
      "text/plain": [
       "\"<evaluation>\\n- Question Score: 10  \\n- Answer Score: 9  \\n- Answer Error Analysis:  \\n\\nThe answer is highly detailed and provides logical multi-step reasoning to fully address the question. However, there are minor areas where the explanation could have been improved for greater precision:  \\n\\n1. **Step 1 (Data Extraction)**: The overview of relevant metrics and relative differences is well-presented by deriving appropriate comparisons from Table 3. However, it does not explicitly address the differences in absolute vs. relative impacts across metrics for vegan diets—this would strengthen the analysis.  \\n   - **Improvement Suggestion**: Include specific values for vegan diets under each metric to illustrate how their impact changes in absolute terms across GWP100, GTP100, and GWP20.  \\n\\n2. **Step 2 (Impact Analysis of Metrics)**: The step provides a concise analysis of the effects of metric choice on relative differences, particularly emphasizing CH4. However, it assumes that absolute emissions decline similarly for GTP100 and does not discuss potential uncertainties or variations in metric application.  \\n   - **Improvement Suggestion**: Explicitly note that the similarity in relative differences (GWP100 vs. GTP100) is contingent on the context's summarized assumptions about gas composition (e.g., treatments of methane and nitrous oxide) in aggregation metrics; reference the Poore and Nemecek caveats.  \\n\\n3. **Step 3 (Temporal Dynamics)**: While the temporal implications of short-lived gases like CH4 are correctly discussed, the reasoning could further integrate the importance of long-lived gases (e.g., CO2 and N2O) for dietary climate impacts in the long term.  \\n   - **Improvement Suggestion**: Highlight that while GWP20 amplifies methane's temporal impact, CO2 and N2O's cumulative, longer-lasting effects justify using metrics like GWP100 for broader policy implications.  \\n\\nOverall, these errors are minor and do not detract significantly from the accuracy of the answer but could enhance its contextual depth and precision.\\n</evaluation>\""
      ]
     },
     "execution_count": 93,
     "metadata": {},
     "output_type": "execute_result"
    }
   ],
   "source": [
    "eval"
   ]
  },
  {
   "cell_type": "code",
   "execution_count": 104,
   "id": "5b73c3c7",
   "metadata": {},
   "outputs": [
    {
     "data": {
      "text/plain": [
       "{'evaluation': [\"- Question Score: 10  \\n- Answer Score: 9  \\n- Answer Error Analysis:  \\n\\nThe answer is highly detailed and provides logical multi-step reasoning to fully address the question. However, there are minor areas where the explanation could have been improved for greater precision:  \\n\\n1. **Step 1 (Data Extraction)**: The overview of relevant metrics and relative differences is well-presented by deriving appropriate comparisons from Table 3. However, it does not explicitly address the differences in absolute vs. relative impacts across metrics for vegan diets—this would strengthen the analysis.  \\n   - **Improvement Suggestion**: Include specific values for vegan diets under each metric to illustrate how their impact changes in absolute terms across GWP100, GTP100, and GWP20.  \\n\\n2. **Step 2 (Impact Analysis of Metrics)**: The step provides a concise analysis of the effects of metric choice on relative differences, particularly emphasizing CH4. However, it assumes that absolute emissions decline similarly for GTP100 and does not discuss potential uncertainties or variations in metric application.  \\n   - **Improvement Suggestion**: Explicitly note that the similarity in relative differences (GWP100 vs. GTP100) is contingent on the context's summarized assumptions about gas composition (e.g., treatments of methane and nitrous oxide) in aggregation metrics; reference the Poore and Nemecek caveats.  \\n\\n3. **Step 3 (Temporal Dynamics)**: While the temporal implications of short-lived gases like CH4 are correctly discussed, the reasoning could further integrate the importance of long-lived gases (e.g., CO2 and N2O) for dietary climate impacts in the long term.  \\n   - **Improvement Suggestion**: Highlight that while GWP20 amplifies methane's temporal impact, CO2 and N2O's cumulative, longer-lasting effects justify using metrics like GWP100 for broader policy implications.  \\n\\nOverall, these errors are minor and do not detract significantly from the accuracy of the answer but could enhance its contextual depth and precision.\"]}"
      ]
     },
     "execution_count": 104,
     "metadata": {},
     "output_type": "execute_result"
    }
   ],
   "source": [
    "\n",
    "c = extract_html_tags(eval,[\"evaluation\"])\n",
    "c"
   ]
  },
  {
   "cell_type": "markdown",
   "id": "9cb55614",
   "metadata": {},
   "source": [
    "# Improve"
   ]
  },
  {
   "cell_type": "code",
   "execution_count": 4,
   "id": "2559c31e",
   "metadata": {},
   "outputs": [],
   "source": [
    "import json\n",
    "file_index =7\n",
    "with open(f\"./data/{file_index}/data.json\",\"r\",encoding=\"utf-8\") as f:\n",
    "    data=json.load(f)\n",
    "with open(f\"./data/{file_index}/paper.txt\",\"r\",encoding=\"utf-8\") as f:\n",
    "    content = f.read()"
   ]
  },
  {
   "cell_type": "code",
   "execution_count": 5,
   "id": "8dd0753b",
   "metadata": {},
   "outputs": [
    {
     "data": {
      "text/plain": [
       "'- Question Score: 9  \\n- Answer Score: 7  \\n- Answer Error Analysis:  \\n  1. **Step 1 (Define exclusion criteria impact)**: The delineation of the exclusion criteria is correct but overly general. While the exclusions of multi-water-type studies and grey literature were mentioned, the step does not utilize sufficient detail directly from the context, such as explicit examples or the rationale behind these exclusions. Suggestion: Incorporate examples from the context (e.g., Vermaire et al., 2017) to provide a sharper explanation of why these exclusions are important and how they might affect the AI’s performance.  \\n\\n  2. **Step 2 (Analyze representativeness limitations)**:  \\n      - The reasoning about the \"narrowed scope\" and \"publication bias\" is generally valid but misses contextual specifics related to QA/QC scoring. For example, the context discusses how multi-water-type studies could introduce methodological variability pertinent to QA/QC scoring criteria. Suggestion: Explicitly link methodological diversity (e.g., sampling methods discussed in the context) to the potential limitations in training the AI tool.  \\n      - The publication bias mention is inferred correctly but is not directly supported by the context and introduces a potential external assumption. Suggestion: Reframe this by tying it back explicitly to how focusing only on peer-reviewed sources might limit methodological variability, as noted in the QA/QC context discussion.  \\n\\n  3. **Step 3 (Assess applicability consequences)**:  \\n      - The point about \"risk assessment gaps\" caused by excluding grey literature is valid but incomplete. The context mentions the increasing complexity and variety of studies published, suggesting grey literature could be a trove of such data. Suggestion: Strengthen this step by explicitly stating how real-world exposure nuances (e.g., mixed-source contamination mentioned in the dataset methodologies) are impacted by the omission of grey literature.  \\n      - The discussion on \"methodological homogeneity\" is relevant but underdeveloped. There is no explicit connection to how the AI-derived QA/QC framework could fail to generalize when applied to more diverse datasets. Suggestion: Argue that focusing on single-water-type studies may limit the model\\'s adaptability when dealing with datasets that integrate multiple water sources, tying this back to the objectives of the QA/QC framework outlined in the context.  \\n\\n  4. **Conclusion**: The conclusion summarizes well but remains somewhat surface-level. It does not synthesize the individual points or highlight the trade-offs between internal consistency and external validity in sufficient depth. Suggestion: Conclude by explicitly stating the implications for applying the QA/QC framework in broader regulatory systems, as hinted at in the context.'"
      ]
     },
     "execution_count": 5,
     "metadata": {},
     "output_type": "execute_result"
    }
   ],
   "source": [
    "data[2][\"evaluation\"]"
   ]
  },
  {
   "cell_type": "code",
   "execution_count": 6,
   "id": "d236ada7",
   "metadata": {},
   "outputs": [
    {
     "data": {
      "text/plain": [
       "\"- Question Score: 10  \\n- Answer Score: 8  \\n- Answer Error Analysis:  \\n\\n1. **Step 1 (Define exclusion criteria impact using contextual specifics)**:  \\n   - While this step identifies the exclusions of multi-water-type studies and grey literature, it does not sufficiently emphasize how these exclusions interact directly with the defined goal of the QA/QC framework (i.e., creating a more consistent scoring methodology). The analysis could be strengthened by explicitly linking these exclusions to the challenges of semantic ambiguity or evaluator bias in QA/QC scoring as mentioned in the introduction.  \\n   - **Improvement Suggestion**: Include an explicit reference to how the exclusions reduce the potential for evaluator bias or inconsistencies, a key argument in the context. For instance, argue that homogeneous datasets simplify the application of QA/QC scoring criteria, reducing misinterpretation.\\n\\n2. **Step 2 (Analyze representativeness limitations tied to QA/QC criteria)**:  \\n   - This step correctly identifies reduced methodological diversity and peer-review bias but fails to concretely explain how these limitations might affect the AI's training or outputs. For example, it does not specify that the restricted dataset may inherently narrow the training sample's variability, leading to less robust AI performance in tackling diverse study designs.  \\n   - **Improvement Suggestion**: Elaborate on how these exclusions may specifically restrict the scope of AI training, such as by limiting its capacity to generalize across real-world contamination scenarios (e.g., those involving mixed water matrices).\\n\\n3. **Step 3 (Assess applicability consequences for risk assessment)**:  \\n   - This step effectively highlights gaps in exposure scenarios and limited generalizability but could benefit from deeper reasoning about how this impacts regulatory frameworks. Specifically, it does not explore how failing to include atypical contamination profiles (e.g., from grey literature) might lead to incomplete models for human exposure assessments.  \\n   - **Improvement Suggestion**: Strengthen this analysis by explicitly addressing regulatory implications, such as the potential risk of neglecting critical contamination pathways that are uniquely reported in excluded datasets.\\n\\n4. **Step 4 (Synthesize trade-offs for regulatory applicability)**:  \\n   - The trade-off synthesis is clear but misses an opportunity to suggest concrete ways the exclusions could be mitigated or adjusted in future iterations. For instance, it does not consider potential hybrid approaches, such as incorporating multi-water or grey literature studies with different weighting criteria to refine regulatory models.  \\n   - **Improvement Suggestion**: Propose actionable steps to balance consistency and representativeness, like piloting the inclusion of diverse data sources with modified QA/QC scoring to assess their influence on AI reliability.\\n\\n5. **Structuring of the Answer**:  \\n   - While the answer includes logical, sequential reasoning, it does not explicitly label each step in a structured way. This makes the multi-step reasoning less transparent.  \\n   - **Improvement Suggestion**: Clearly label each reasoning stage (e.g., Step 1, Step 2) in alignment with the question's complexity, to enhance clarity and logical flow.\\n\\n**Overall Assessment**: The answer is mostly accurate, but some sections lack sufficient depth or specific elaboration tied directly to the provided context. Addressing these gaps would elevate the rigor and ensure comprehensive alignment to the question.\""
      ]
     },
     "execution_count": 6,
     "metadata": {},
     "output_type": "execute_result"
    }
   ],
   "source": [
    "data[2][\"evaluation_1\"]"
   ]
  },
  {
   "cell_type": "code",
   "execution_count": 3,
   "id": "b9b3aa7d",
   "metadata": {},
   "outputs": [],
   "source": [
    "import re\n",
    "\n",
    "def extract_scores(text):\n",
    "    patterns = {\n",
    "        \"Question Score\": r\"(?:Question Score|问题分数)[:\\-*\\s]+(\\d+)\",\n",
    "        \"Answer Score\": r\"(?:Answer Score|答案分数)[:\\-*\\s]+(\\d+)\"\n",
    "    }\n",
    "    scores = {}\n",
    "    for key, pattern in patterns.items():\n",
    "        match = re.search(pattern, text, re.IGNORECASE)\n",
    "        if match:\n",
    "            scores[key] = int(match.group(1))\n",
    "        else:\n",
    "            scores[key] = None\n",
    "    return scores"
   ]
  },
  {
   "cell_type": "code",
   "execution_count": 141,
   "id": "7e162362",
   "metadata": {},
   "outputs": [
    {
     "data": {
      "text/plain": [
       "8"
      ]
     },
     "execution_count": 141,
     "metadata": {},
     "output_type": "execute_result"
    }
   ],
   "source": [
    "score = extract_scores(data[ques_index][\"evaluation\"])\n",
    "score[\"Answer Score\"]"
   ]
  },
  {
   "cell_type": "code",
   "execution_count": 127,
   "id": "af3d2f9e",
   "metadata": {},
   "outputs": [],
   "source": [
    "IMPROVE_ANSWER_TEMPLATE = \"\"\"\n",
    "hi, I need your help to improve my detailed, multi-step answer based on the provided context and professor's comments.\n",
    "\n",
    "<questions>{question}</questions>\n",
    "\n",
    "<context>{context}</context>\n",
    "\n",
    "<answer>{answer}</answer>\n",
    "\n",
    "<comments>{comment}</comments>\n",
    "\n",
    "Instructions:\n",
    "- You should completely utilize the context and comments to improve the answer, espically the professor's comments.\n",
    "- Improve the answer based on the comments and context, under these requirements or constraints:\n",
    "  - Provide a comprehensive answer to each question, addressing all aspects and subcomponents of the question.\n",
    "  - Ensure the answer is entirely derived from the information, data, and methods explicitly provided in the context, with no assumptions or information beyond the context.\n",
    "  - Answer in a logical, multi-step manner, explicitly labeling each step (e.g., \"Step 1: Extract relevant data,\" \"Step 2: Analyze relationships\"). Each step should:\n",
    "    - Clearly explain the reasoning process, including why specific data or methods are used.\n",
    "    - Reference specific parts of the context (e.g., tables, figures, sections) to support the analysis.\n",
    "    - Build toward the final conclusion through analysis, synthesis, or inference.\n",
    "  - Ensure the steps demonstrate complex reasoning, such as comparing multiple data points, interpreting methodological implications, or deriving conclusions from results.\n",
    "  - Do not include content unrelated to answering the question or unsupported by the context.\n",
    "- No other explanations for the improvement are needed.\n",
    "- Enclose each answer within <answer></answer> tags.\n",
    "\"\"\"\n",
    "\n",
    "IMPROVE_ANSWER_SYSTEM_MESSAGE = \"\"\"\n",
    "You are an expert at improving  logical, multi-step reasoning and comprehensive answers to complex questions based on the given context and comments. \n",
    "Your task is to improve the given answer based on the professor's comment and keep the same format.\n",
    "\"\"\""
   ]
  },
  {
   "cell_type": "code",
   "execution_count": 128,
   "id": "9a3abb90",
   "metadata": {},
   "outputs": [],
   "source": [
    "prompt = IMPROVE_ANSWER_TEMPLATE.format(\n",
    "    question=data[ques_index][\"question\"],\n",
    "    context=content,\n",
    "    answer=data[ques_index][\"answer\"],\n",
    "    comment=data[ques_index][\"evaluation\"]\n",
    ")"
   ]
  },
  {
   "cell_type": "code",
   "execution_count": 129,
   "id": "1f7085e4",
   "metadata": {},
   "outputs": [],
   "source": [
    "new_answer = gpt_chat(\n",
    "    sys=IMPROVE_ANSWER_SYSTEM_MESSAGE,\n",
    "    user=prompt,\n",
    "    provider=\"deepseek\"\n",
    ")"
   ]
  },
  {
   "cell_type": "code",
   "execution_count": 130,
   "id": "6bd48b56",
   "metadata": {},
   "outputs": [],
   "source": [
    "p = GET_EVALUATE_TEMPLATE.format(\n",
    "    context=content,\n",
    "    question=data[ques_index][\"question\"],\n",
    "    answer=new_answer\n",
    ")"
   ]
  },
  {
   "cell_type": "code",
   "execution_count": 131,
   "id": "62024fa8",
   "metadata": {},
   "outputs": [],
   "source": [
    "eval1 = gpt_chat(\n",
    "    sys=GET_EVALUATE_SYSTEM_MESSAGE,\n",
    "    user=p,\n",
    "    provider=\"openai\"\n",
    ")"
   ]
  },
  {
   "cell_type": "code",
   "execution_count": 132,
   "id": "1a7b7288",
   "metadata": {},
   "outputs": [
    {
     "name": "stdout",
     "output_type": "stream",
     "text": [
      "<evaluation>\n",
      "- Question Score: 10  \n",
      "- Answer Score: 8  \n",
      "- Answer Error Analysis:  \n",
      "  1. **Step 1** is primarily focused on highlighting the performance benefits of assimilation, which aligns well with the context. However, while it correctly mentions PM2.5 improvements (~67% correlation enhancement, ~38% bias reduction), the analysis could be clearer by directly linking these statistics to regional variability in EPA regions. Improvement Suggestion: Explicitly mention that the statistical performance metrics validate the model's assimilation benefits for individual EPA regions, referencing the variability within correlation coefficients and biases as shown in Figs. 7–8.  \n",
      "  2. **Step 2** incorrectly treats emission variability factors (1.16–2.94 for anthropogenic sources, 3.13–8.0 for fires) as comprehensive when these are representative but not exhaustive. Moreover, meteorological errors like overestimated wind speeds are outlined without articulating their localized effects on correlations across EPA regions. Improvement Suggestion: Specify how the emission variability and wind speed biases directly contributed to regional discrepancies (e.g., Region 8's PM2.5 underestimation or Region 2's overestimation).  \n",
      "  3. **Step 3** correctly discusses the implications for unmonitored areas, citing specific cases like wildfire-driven increases in Shasta County. However, it does not sufficiently emphasize the broader regional impacts of residual biases in air quality management decisions. Improvement Suggestion: Include a discussion about how these biases may affect extrapolation in unmonitored areas, particularly in wildfire-prone and/or complex terrain regions, and emphasize the stated limitations (e.g., limitations of MODIS AOD for vertical aerosol correction).\n",
      "</evaluation>\n"
     ]
    }
   ],
   "source": [
    "print(eval1)"
   ]
  },
  {
   "cell_type": "code",
   "execution_count": 134,
   "id": "eb4be586",
   "metadata": {},
   "outputs": [
    {
     "name": "stdout",
     "output_type": "stream",
     "text": [
      "- Question Score: 10  \n",
      "- Answer Score: 8  \n",
      "- Answer Error Analysis:  \n",
      "\n",
      "1. **Step 1: Extract performance metrics from the context**  \n",
      "   - This step is mostly correct as it accurately extracts the performance metrics for surface ozone and PM2.5 (correlation coefficients, MB, and RMSE) from the context. However, it misses the additional details about the specific improvements introduced by assimilation, such as the ~67% improvement in PM2.5 correlations and 38% reduction in biases, which are explicitly mentioned in Section 2.3.  \n",
      "   - **Improvement Suggestion**: Explicitly include the quantified benefits of assimilation highlighted in Section 2.3 to fully capture its impact on model performance.\n",
      "\n",
      "2. **Step 2: Analyze regional variations**  \n",
      "   - While the analysis correctly identifies over- and underestimation trends (e.g., ozone overestimation in Regions 8 and 9, PM2.5 underestimation in Region 8 and overestimation in Region 2), it introduces a minor interpretive gap. The discussion would be more robust if it clarified that these regional biases are attributed to factors like emission inventories, meteorological uncertainties, and data constraints (e.g., vertical aerosol profiles for AOD). These reasons are mentioned in Section 4.2 but not fully leveraged in the explanation.  \n",
      "   - **Improvement Suggestion**: Briefly correlate the identified regional variations to underlying factors (e.g., emission or meteorological uncertainties) as discussed in Section 4.2, to give a comprehensive explanation of observed biases.\n",
      "\n",
      "3. **Step 3: Implications for unmonitored areas**  \n",
      "   - Although this step is well-structured and touches upon important aspects (e.g., reanalysis use in unmonitored regions, examples with dashboards), it fails to address an additional key implication: the potential for assimilating remote-sensed data to inform and reduce uncertainties in unmonitored areas. Moreover, the step should explicitly acknowledge the limitations of the assimilation method (e.g., reliance on MODIS AOD, which lacks vertical distribution information), as these are relevant to the dataset's usability.  \n",
      "   - **Improvement Suggestion**: Enhance the analysis by explicitly stating that assimilation enables better spatial coverage for unmonitored regions while acknowledging its limitations (e.g., AOD's lack of vertical detail) that stakeholders should consider when using the reanalysis data.\n",
      "\n",
      "4. **General Structure and Completeness**  \n",
      "   - The reasoning structure is clear, but the analysis could provide slightly more depth in its synthesis of context data and impacts. For instance, the use of numerical trends (e.g., exact % improvements or uncertainties) could make the answer more exhaustive. Including figures/statistics relevant to unmonitored counties (e.g., contextual examples like PM2.5 trends in wildfire scenarios) would strengthen the implications discussion.  \n",
      "   - **Improvement Suggestion**: Incorporate stronger quantitative and example-based discussion (e.g., the wildfire impacts noted in the dashboard example in Fig. 11) to make the implications section more substantive.\n"
     ]
    }
   ],
   "source": [
    "print(data[ques_index][\"evaluation\"])"
   ]
  },
  {
   "cell_type": "markdown",
   "id": "60907c41",
   "metadata": {},
   "source": [
    "# Display"
   ]
  },
  {
   "cell_type": "code",
   "execution_count": 23,
   "id": "40dedb32",
   "metadata": {},
   "outputs": [],
   "source": [
    "ori_ques_score=[]\n",
    "ori_ans_score=[]\n",
    "new_ques_score=[]\n",
    "new_ans_score=[]\n",
    "for i in range(1,11):\n",
    "    with open(f\"./data/{i}/data.json\",\"r\",encoding=\"utf-8\") as f:\n",
    "        data=json.load(f)\n",
    "    for j in range(3):\n",
    "        score = extract_scores(data[j][\"evaluation\"])\n",
    "        ori_ques_score.append(score[\"Question Score\"])\n",
    "        ori_ans_score.append(score[\"Answer Score\"])\n",
    "        if \"evaluation_1\" in data[j]:\n",
    "            score1 = extract_scores(data[j][\"evaluation_1\"])\n",
    "            new_ans_score.append(score1[\"Answer Score\"])\n",
    "        else:\n",
    "            new_ans_score.append(score[\"Answer Score\"])"
   ]
  },
  {
   "cell_type": "code",
   "execution_count": 15,
   "id": "6a71552f",
   "metadata": {},
   "outputs": [
    {
     "data": {
      "image/png": "[encoded data removed]",
      "text/plain": [
       "<Figure size 500x300 with 1 Axes>"
      ]
     },
     "metadata": {},
     "output_type": "display_data"
    }
   ],
   "source": [
    "import matplotlib.pyplot as plt\n",
    "import numpy as np\n",
    "\n",
    "plt.figure(figsize=(5, 3))\n",
    "plt.bar(np.arange(len(ori_ques_score)), ori_ques_score, width=0.4,label='Original Question Score', color='green', alpha=0.6)\n",
    "plt.title('Original Question Score')\n",
    "plt.show()"
   ]
  },
  {
   "cell_type": "code",
   "execution_count": 16,
   "id": "b11ba139",
   "metadata": {},
   "outputs": [
    {
     "data": {
      "image/png": "[encoded data removed]",
      "text/plain": [
       "<Figure size 500x300 with 1 Axes>"
      ]
     },
     "metadata": {},
     "output_type": "display_data"
    }
   ],
   "source": [
    "plt.figure(figsize=(5, 3))\n",
    "plt.bar(np.arange(len(ori_ans_score)), ori_ans_score, width=0.4,label='Original Answer Score', color='blue', alpha=0.6)\n",
    "plt.title('Original Answer Score')\n",
    "plt.show()"
   ]
  },
  {
   "cell_type": "code",
   "execution_count": 24,
   "id": "3f535d1f",
   "metadata": {},
   "outputs": [
    {
     "data": {
      "text/plain": [
       "30"
      ]
     },
     "execution_count": 24,
     "metadata": {},
     "output_type": "execute_result"
    }
   ],
   "source": [
    "len(ori_ans_score)\n"
   ]
  },
  {
   "cell_type": "code",
   "execution_count": 25,
   "id": "30b3d606",
   "metadata": {},
   "outputs": [
    {
     "data": {
      "text/plain": [
       "30"
      ]
     },
     "execution_count": 25,
     "metadata": {},
     "output_type": "execute_result"
    }
   ],
   "source": [
    "len(new_ans_score)"
   ]
  },
  {
   "cell_type": "code",
   "execution_count": 32,
   "id": "57cf932b",
   "metadata": {},
   "outputs": [
    {
     "data": {
      "image/png": "[encoded data removed]",
      "text/plain": [
       "<Figure size 800x500 with 1 Axes>"
      ]
     },
     "metadata": {},
     "output_type": "display_data"
    }
   ],
   "source": [
    "x = np.arange(len(ori_ans_score))  # x 轴坐标\n",
    "width = 0.35  # 柱状图宽度\n",
    "\n",
    "plt.figure(figsize=(8, 5))  # 调整画布大小\n",
    "\n",
    "# 绘制 Original Answer Score（左侧）\n",
    "plt.bar(x - width/2, ori_ans_score, width=width, label='Ori', color='green', alpha=0.8)\n",
    "\n",
    "# 绘制 New Answer Score（右侧）\n",
    "plt.bar(x + width/2, new_ans_score, width=width, label='New', color=\"grey\", alpha=0.8)\n",
    "\n",
    "# 添加标题、标签和图例\n",
    "plt.title('Original Answer Score vs New Answer Score', fontsize=12, pad=15)\n",
    "plt.xlabel('Question Index', fontsize=10)\n",
    "plt.ylabel('Score', fontsize=10)\n",
    "plt.legend(loc='upper right', fontsize=9)\n",
    "\n",
    "# 调整布局，避免标签重叠\n",
    "plt.tight_layout()\n",
    "plt.show()"
   ]
  },
  {
   "cell_type": "code",
   "execution_count": 4,
   "id": "df66ceae",
   "metadata": {},
   "outputs": [],
   "source": [
    "import json\n",
    "ori_ans_score=[]\n",
    "new_ans_score=[]\n",
    "for i in range(1,7):\n",
    "    with open(f\"./data/{i}/data.json\",\"r\",encoding=\"utf-8\") as f:\n",
    "        data=json.load(f)\n",
    "    for j in range(3):\n",
    "        if \"evaluation_2\" in data[j]:\n",
    "            score = extract_scores(data[j][\"evaluation\"])\n",
    "            ori_ans_score.append(score[\"Answer Score\"])\n",
    "            score1 = extract_scores(data[j][\"evaluation_1\"])\n",
    "            new_ans_score.append(score1[\"Answer Score\"])"
   ]
  },
  {
   "cell_type": "code",
   "execution_count": 8,
   "id": "1c8ca22d",
   "metadata": {},
   "outputs": [
    {
     "data": {
      "image/png": "[encoded data removed]",
      "text/plain": [
       "<Figure size 800x500 with 1 Axes>"
      ]
     },
     "metadata": {},
     "output_type": "display_data"
    }
   ],
   "source": [
    "import matplotlib.pyplot as plt\n",
    "import numpy as np\n",
    "\n",
    "x = np.arange(len(ori_ans_score))  # x 轴坐标\n",
    "width = 0.35  # 柱状图宽度\n",
    "\n",
    "plt.figure(figsize=(8, 5))  # 调整画布大小\n",
    "\n",
    "# 绘制 Original Answer Score（左侧）\n",
    "plt.bar(x - width/2, ori_ans_score, width=width, label='deepseek', color='green', alpha=0.8)\n",
    "\n",
    "# 绘制 New Answer Score（右侧）\n",
    "plt.bar(x + width/2, new_ans_score, width=width, label='openai', color=\"grey\", alpha=0.8)\n",
    "\n",
    "# 添加标题、标签和图例\n",
    "plt.title('Original Answer Score vs New Answer Score', fontsize=12, pad=15)\n",
    "plt.xlabel('Question Index', fontsize=10)\n",
    "plt.ylabel('Score', fontsize=10)\n",
    "plt.legend(loc='upper right', fontsize=9)\n",
    "\n",
    "# 调整布局，避免标签重叠\n",
    "plt.tight_layout()\n",
    "plt.show()"
   ]
  },
  {
   "cell_type": "code",
   "execution_count": 9,
   "id": "042e2e91",
   "metadata": {},
   "outputs": [],
   "source": [
    "import json\n",
    "ori_ans_score=[]\n",
    "new_ans_score=[]\n",
    "for i in range(1,7):\n",
    "    with open(f\"./data/{i}/data.json\",\"r\",encoding=\"utf-8\") as f:\n",
    "        data=json.load(f)\n",
    "    for j in range(3):\n",
    "        if \"evaluation_3\" in data[j]:\n",
    "            score = extract_scores(data[j][\"evaluation_3\"])\n",
    "            ori_ans_score.append(score[\"Answer Score\"])\n",
    "            score1 = extract_scores(data[j][\"evaluation_4\"])\n",
    "            new_ans_score.append(score1[\"Answer Score\"])"
   ]
  },
  {
   "cell_type": "code",
   "execution_count": 10,
   "id": "172d36a8",
   "metadata": {},
   "outputs": [
    {
     "data": {
      "image/png": "[encoded data removed]",
      "text/plain": [
       "<Figure size 800x500 with 1 Axes>"
      ]
     },
     "metadata": {},
     "output_type": "display_data"
    }
   ],
   "source": [
    "import matplotlib.pyplot as plt\n",
    "import numpy as np\n",
    "\n",
    "x = np.arange(len(ori_ans_score))  # x 轴坐标\n",
    "width = 0.35  # 柱状图宽度\n",
    "\n",
    "plt.figure(figsize=(8, 5))  # 调整画布大小\n",
    "\n",
    "# 绘制 Original Answer Score（左侧）\n",
    "plt.bar(x - width/2, ori_ans_score, width=width, label='deepseek', color='green', alpha=0.8)\n",
    "\n",
    "# 绘制 New Answer Score（右侧）\n",
    "plt.bar(x + width/2, new_ans_score, width=width, label='openai', color=\"grey\", alpha=0.8)\n",
    "\n",
    "# 添加标题、标签和图例\n",
    "plt.title('Original Answer Score vs New Answer Score', fontsize=12, pad=15)\n",
    "plt.xlabel('Question Index', fontsize=10)\n",
    "plt.ylabel('Score', fontsize=10)\n",
    "plt.legend(loc='upper right', fontsize=9)\n",
    "\n",
    "# 调整布局，避免标签重叠\n",
    "plt.tight_layout()\n",
    "plt.show()"
   ]
  }
 ],
 "metadata": {
  "kernelspec": {
   "display_name": "paperins",
   "language": "python",
   "name": "python3"
  },
  "language_info": {
   "codemirror_mode": {
    "name": "ipython",
    "version": 3
   },
   "file_extension": ".py",
   "mimetype": "text/x-python",
   "name": "python",
   "nbconvert_exporter": "python",
   "pygments_lexer": "ipython3",
   "version": "3.10.4"
  }
 },
 "nbformat": 4,
 "nbformat_minor": 5
}
