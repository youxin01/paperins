{
 "cells": [
  {
   "cell_type": "markdown",
   "id": "e165b97d",
   "metadata": {},
   "source": [
    "# pdf2md"
   ]
  },
  {
   "cell_type": "code",
   "execution_count": 1,
   "id": "920925e7",
   "metadata": {},
   "outputs": [
    {
     "name": "stderr",
     "output_type": "stream",
     "text": [
      "/home/zyx/anaconda3/envs/paperins/lib/python3.10/site-packages/tqdm/auto.py:21: TqdmWarning: IProgress not found. Please update jupyter and ipywidgets. See https://ipywidgets.readthedocs.io/en/stable/user_install.html\n",
      "  from .autonotebook import tqdm as notebook_tqdm\n"
     ]
    }
   ],
   "source": [
    "from marker.converters.pdf import PdfConverter\n",
    "from marker.models import create_model_dict\n",
    "from marker.output import text_from_rendered"
   ]
  },
  {
   "cell_type": "code",
   "execution_count": 3,
   "id": "80f98d60",
   "metadata": {},
   "outputs": [
    {
     "name": "stdout",
     "output_type": "stream",
     "text": [
      "Loaded layout model s3://layout/2025_02_18 on device cuda with dtype torch.float16\n",
      "Loaded texify model s3://texify/2025_02_18 on device cuda with dtype torch.float16\n",
      "Loaded recognition model s3://text_recognition/2025_02_18 on device cuda with dtype torch.float16\n",
      "Loaded table recognition model s3://table_recognition/2025_02_18 on device cuda with dtype torch.float16\n",
      "Loaded detection model s3://text_detection/2025_02_28 on device cuda with dtype torch.float16\n",
      "Loaded detection model s3://inline_math_detection/2025_02_24 on device cuda with dtype torch.float16\n"
     ]
    }
   ],
   "source": [
    "converter = PdfConverter(\n",
    "    artifact_dict=create_model_dict(),\n",
    ")"
   ]
  },
  {
   "cell_type": "code",
   "execution_count": 47,
   "id": "7c8ccae1",
   "metadata": {},
   "outputs": [
    {
     "name": "stderr",
     "output_type": "stream",
     "text": [
      "Recognizing layout: 100%|██████████| 5/5 [00:02<00:00,  1.79it/s]\n",
      "Running OCR Error Detection: 100%|██████████| 7/7 [00:00<00:00, 230.24it/s]\n",
      "Detecting bboxes: 0it [00:00, ?it/s]\n",
      "Texify inference: 100%|██████████| 1/1 [00:01<00:00,  1.86s/it]\n",
      "Detecting bboxes: 0it [00:00, ?it/s]\n",
      "Recognizing tables: 100%|██████████| 1/1 [00:00<00:00,  2.16it/s]\n"
     ]
    }
   ],
   "source": [
    "rendered = converter(\"./data/1.pdf\")\n",
    "text, _, images = text_from_rendered(rendered)"
   ]
  },
  {
   "cell_type": "code",
   "execution_count": null,
   "id": "0a365bc7",
   "metadata": {},
   "outputs": [],
   "source": [
    "with open(\"./data/output.txt\", \"w\", encoding=\"utf-8\") as f:\n",
    "    f.write(text)"
   ]
  },
  {
   "cell_type": "code",
   "execution_count": 5,
   "id": "6e3aaecc",
   "metadata": {},
   "outputs": [],
   "source": [
    "with open(\"./data/output.txt\", \"r\", encoding=\"utf-8\") as f:\n",
    "    text = f.read()"
   ]
  },
  {
   "cell_type": "code",
   "execution_count": 6,
   "id": "7c065776",
   "metadata": {},
   "outputs": [],
   "source": [
    "import re\n",
    "\n",
    "def clean_markdown(text):\n",
    "    # 保留换行符拆行\n",
    "    lines = text.splitlines(keepends=True)\n",
    "\n",
    "    # 删除 Markdown 和 HTML 图片\n",
    "    image_pattern = re.compile(r\"!\\[[^\\]]*\\]\\([^)]*\\)|<img[^>]*>\", re.IGNORECASE)\n",
    "    lines = [image_pattern.sub('', line) for line in lines]\n",
    "\n",
    "    # 找到第一个标题中包含 appendix/references 的行，截断其之前内容\n",
    "    cutoff_index = len(lines)\n",
    "    for i, line in enumerate(lines):\n",
    "        if '#' in line and any(keyword in line.lower() for keyword in ['appendix', 'references']):\n",
    "            cutoff_index = i\n",
    "            break\n",
    "\n",
    "    cleaned_lines = lines[:cutoff_index]\n",
    "\n",
    "    return ''.join(cleaned_lines)  # 不做换行或压缩，保持原始结构"
   ]
  },
  {
   "cell_type": "code",
   "execution_count": 7,
   "id": "6a4c6a43",
   "metadata": {},
   "outputs": [],
   "source": [
    "texts = text\n",
    "text1 = clean_markdown(texts)"
   ]
  },
  {
   "cell_type": "markdown",
   "id": "0c0d7916",
   "metadata": {},
   "source": [
    "# 生成问题"
   ]
  },
  {
   "cell_type": "code",
   "execution_count": 9,
   "id": "3413640e",
   "metadata": {},
   "outputs": [],
   "source": [
    "from openai import OpenAI\n",
    "\n",
    "def gpt_chat(sys: str, user: str, provider: str) -> str:\n",
    "    config = {\n",
    "        \"doubao\": {\n",
    "            \"base_url\": \"https://ark.cn-beijing.volces.com/api/v3\",\n",
    "            \"api_key\": \"d051e32c-ec24-445e-a7cc-4b7bc5a54899\",\n",
    "            \"model\": \"doubao-1-5-pro-32k-250115\"\n",
    "        },\n",
    "        \"kimi\": {\n",
    "            \"base_url\": \"https://api.moonshot.cn/v1\",\n",
    "            \"api_key\": \"sk-zhMCEZyyOFcNm3OAKmWHDCnJVIABCbHIEemu8pTTjWDg7n1o\",\n",
    "            \"model\": \"moonshot-v1-32k\"\n",
    "        },\n",
    "        \"qwen72\": {\n",
    "            \"base_url\": \"https://dashscope.aliyuncs.com/compatible-mode/v1\",\n",
    "            \"api_key\": \"sk-3b32fb0739b2411bb9c098e6f9b56a3e\",\n",
    "            \"model\": \"qwen2.5-72b-instruct\"\n",
    "        },\n",
    "        \"qwen32\": {\n",
    "            \"base_url\": \"https://dashscope.aliyuncs.com/compatible-mode/v1\",\n",
    "            \"api_key\": \"sk-3b32fb0739b2411bb9c098e6f9b56a3e\",\n",
    "            \"model\": \"qwen2.5-32b-instruct\"\n",
    "        },\n",
    "        \"deepseek\": {\n",
    "            \"base_url\": \"https://api.deepseek.com/\",\n",
    "            \"api_key\": \"sk-3f4a482416744badbd6ee1ff7d268026\",\n",
    "            \"model\": \"deepseek-chat\"\n",
    "        }\n",
    "    }\n",
    "\n",
    "    if provider not in config:\n",
    "        raise ValueError(f\"Unknown provider: {provider}\")\n",
    "\n",
    "    cfg = config[provider]\n",
    "    client = OpenAI(\n",
    "        base_url=cfg[\"base_url\"],\n",
    "        api_key=cfg[\"api_key\"]\n",
    "    )\n",
    "\n",
    "    completion = client.chat.completions.create(\n",
    "        model=cfg[\"model\"],\n",
    "        messages=[\n",
    "            {\"role\": \"system\", \"content\": sys},\n",
    "            {\"role\": \"user\", \"content\": user}\n",
    "        ]\n",
    "    )\n",
    "    return completion.choices[0].message.content\n"
   ]
  },
  {
   "cell_type": "code",
   "execution_count": 10,
   "id": "064aa79f",
   "metadata": {},
   "outputs": [],
   "source": [
    "GET_QUESTIONS_TEMPLATE = \"\"\"\n",
    "Hello, I need your expertise to generate a set of thought-provoking questions based on the provided context.\n",
    "\n",
    "<context>{context}</context>\n",
    "\n",
    "Instructions:\n",
    "* Generate a list of questions.\n",
    "* Ensure that each question is realistically derived from the given context.\n",
    "* Each question should be complex, demanding careful consideration and multiple steps to answer.\n",
    "* Enclose each question within <question></question> tags.\n",
    "* Do not number the questions.\n",
    "* Generate up to {max_questions} questions.\n",
    "\"\"\"\n",
    "\n",
    "GET_QUESTIONS_SYSTEM_MESSAGE = \"\"\"\n",
    "You are a distinguished professor with extensive expertise in analyzing academic papers and formulating insightful questions. \n",
    "Your profound knowledge of the subject allows you to identify intricate questions that demand thorough contemplation. \n",
    "Your primary objective is to assist the user in generating questions that are intellectually challenging and necessitate deep thought to resolve.\n",
    "\"\"\""
   ]
  },
  {
   "cell_type": "code",
   "execution_count": null,
   "id": "26403c28",
   "metadata": {},
   "outputs": [],
   "source": [
    "max_questions = 3\n",
    "context = GET_QUESTIONS_TEMPLATE.format(\n",
    "    context=text1,\n",
    "    max_questions=max_questions\n",
    ")\n",
    "questions = gpt_chat(\n",
    "    sys=GET_QUESTIONS_SYSTEM_MESSAGE,\n",
    "    user=context,\n",
    "    provider=\"deepseek\"\n",
    ")\n"
   ]
  },
  {
   "cell_type": "code",
   "execution_count": 12,
   "id": "6195f534",
   "metadata": {},
   "outputs": [],
   "source": [
    "def extract_html_tags(text, keys):\n",
    "    content_dict = {}\n",
    "    keys = set(keys)\n",
    "    for key in keys:\n",
    "        pattern = f\"<{key}>(.*?)</{key}>\"\n",
    "        matches = re.findall(pattern, text, re.DOTALL)\n",
    "        # print(matches)\n",
    "        if matches:\n",
    "            content_dict[key] = [match.strip() for match in matches]\n",
    "    return content_dict\n",
    "\n",
    "def _validate_tasks(out):\n",
    "    questions = extract_html_tags(out, [\"question\"])\n",
    "    if \"question\" not in questions:\n",
    "        return (\n",
    "            out,\n",
    "            False,\n",
    "            f\"Error: you did not generate questions within the <question></question> tags\",\n",
    "        )\n",
    "    questions = questions[\"question\"]\n",
    "    # Check that there are at most max_questions questions\n",
    "    if len(questions) > 3:\n",
    "        return (\n",
    "            out,\n",
    "            False,\n",
    "            f\"Error: you can only ask at most {3} questions, but you asked {len(questions)}.\",\n",
    "        )\n",
    "\n",
    "    return (questions, out), True, \"\""
   ]
  },
  {
   "cell_type": "code",
   "execution_count": 18,
   "id": "e1895340",
   "metadata": {},
   "outputs": [
    {
     "data": {
      "text/plain": [
       "['How does the assimilation of MODIS AOD and MOPITT CO retrievals in the CMAQ model impact the accuracy and uncertainty of long-term air quality reanalysis, particularly in regions with sparse ground-based monitoring networks, and what are the implications for air quality management policies?',\n",
       " 'What are the underlying factors contributing to the observed discrepancies between modeled and observed PM2.5 concentrations, especially in regions like the Pacific Northwest where wildfire activity has increased, and how might these discrepancies influence the reliability of trend analyses in such areas?',\n",
       " 'Given the varying performance of the WRF-CMAQ system across different meteorological parameters (e.g., temperature vs. wind speed) and pollutant types (e.g., ozone vs. PM2.5), what methodological improvements could be implemented to reduce biases and enhance the utility of the reanalysis dataset for stakeholders?']"
      ]
     },
     "execution_count": 18,
     "metadata": {},
     "output_type": "execute_result"
    }
   ],
   "source": [
    "a= _validate_tasks(questions)\n",
    "a[0][0]"
   ]
  },
  {
   "cell_type": "markdown",
   "id": "a548faab",
   "metadata": {},
   "source": [
    "# 回答问题"
   ]
  },
  {
   "cell_type": "code",
   "execution_count": 32,
   "id": "7d5e1f52",
   "metadata": {},
   "outputs": [],
   "source": [
    "GET_ANSWER_TEMPLATE = \"\"\"\n",
    "Hello, I need your expertise to provide detailed answers to the questions based on the provided context.\n",
    "\n",
    "<questions>{questions}</questions>\n",
    "\n",
    "<context>{context}</context>\n",
    "\n",
    "Instructions:\n",
    "* Provide detailed answer to the question.\n",
    "* Ensure the answers are comprehensive and cover all aspects of the questions.\n",
    "* Use the context provided to support your answers.\n",
    "* Use clear connectors such as \"First\", \"Next,\" \"Then,\" and \"Finally\" to link each step.  \n",
    "* Enclose each answer within <answer></answer> tags.\n",
    "* Do not include content unrelated to answering the questions.\n",
    "\"\"\"\n",
    "\n",
    "GET_ANSWER_SYSTEM_MESSAGE = \"\"\"\n",
    "You are an expert in providing logical, multi-step reasoning and detailed answers to questions based on given contexts. \n",
    "Your role is to analyze the questions and the provided context thoroughly, and to generate answers that are not only accurate but also rich in detail. \n",
    "You should ensure that your answers address all parts of the questions and are supported by the context.\n",
    "Your goal is to deliver answers that are logical, well-structured, and easy to follow.\n",
    "\"\"\""
   ]
  },
  {
   "cell_type": "code",
   "execution_count": 33,
   "id": "76ded39c",
   "metadata": {},
   "outputs": [],
   "source": [
    "qs_context = GET_ANSWER_TEMPLATE.format(\n",
    "    questions=a[0][0][1],\n",
    "    context=text1\n",
    ")\n",
    "answer = gpt_chat(sys=GET_ANSWER_SYSTEM_MESSAGE, user=qs_context, provider=\"deepseek\")"
   ]
  },
  {
   "cell_type": "code",
   "execution_count": 34,
   "id": "19d1732a",
   "metadata": {},
   "outputs": [],
   "source": [
    "final = extract_html_tags(answer, [\"answer\"])"
   ]
  },
  {
   "cell_type": "code",
   "execution_count": 35,
   "id": "8a5c2ee2",
   "metadata": {},
   "outputs": [
    {
     "name": "stdout",
     "output_type": "stream",
     "text": [
      "The observed discrepancies between modeled and observed PM2.5 concentrations, particularly in regions like the Pacific Northwest where wildfire activity has increased, can be attributed to several underlying factors:\n",
      "\n",
      "1. **Uncertainties in Emission Inventories**: \n",
      "   - The study highlights that anthropogenic and biomass burning emission estimates vary significantly across inventories (by factors of 1.16–2.94 for anthropogenic emissions and 3.13–8.0 for fire emissions). In the Pacific Northwest, wildfires contribute substantially to PM2.5 levels, and uncertainties in fire emission inventories (e.g., FINN) can lead to discrepancies. For example, the model may underestimate the intensity or spatial distribution of wildfire emissions, which are critical for accurate PM2.5 simulations.\n",
      "\n",
      "2. **Limitations in Data Assimilation**: \n",
      "   - The assimilation of MODIS AOD retrievals, while improving PM2.5 correlations, has limitations. The observation error for MODIS AOD increases with higher AOD values, restricting the data assimilation system's ability to correct model biases during high-fire events. Additionally, AOD retrievals lack vertical distribution information, so the assimilation cannot fully correct errors in the vertical profile of aerosols, such as those arising from plume rise inaccuracies.\n",
      "\n",
      "3. **Meteorological Uncertainties**: \n",
      "   - The WRF model exhibits known biases in simulating wind speed and precipitation, particularly in complex terrains like the Pacific Northwest. These biases can affect the transport and deposition of PM2.5. For instance, overestimation of wind speeds may lead to faster dispersion of pollutants, while errors in precipitation can alter wet deposition rates.\n",
      "\n",
      "4. **Model Representation of Wildfire Impacts**: \n",
      "   - The study notes that the model underestimates PM2.5 peaks during high-fire periods (e.g., 2017–2018 in the Pacific Northwest). This could stem from inadequate representation of fire emission injection heights, chemical aging of smoke, or secondary aerosol formation processes in the model.\n",
      "\n",
      "5. **Temporal and Spatial Resolution**: \n",
      "   - The 12 km resolution of the model may not fully capture localized wildfire plumes or urban-rural gradients in PM2.5, leading to mismatches with point observations from monitoring sites.\n",
      "\n",
      "**Impact on Trend Analyses Reliability**:\n",
      "- The discrepancies influence trend analyses in two key ways:\n",
      "  - **Underestimation of Increasing Trends**: In wildfire-prone regions like the Pacific Northwest, the model's underestimation of PM2.5 during high-fire years (e.g., 2017–2018) may lead to an underestimation of positive trends in summertime PM2.5. The study found a 5-fold increase in positive trends for high-PM2.5 days (95th percentile) in summer, which the model may not fully capture.\n",
      "  - **Regional Bias Propagation**: Systematic biases in emissions or meteorology can skew long-term trends. For example, if fire emissions are consistently underestimated, the model may show weaker increasing trends or even spurious decreasing trends in PM2.5 compared to observations.\n",
      "\n",
      "**Mitigating Factors**:\n",
      "- The assimilation of satellite data (MODIS AOD and MOPITT CO) partially addresses these issues by constraining aerosol and CO fields, improving correlation coefficients (e.g., ~67% for PM2.5). However, the study emphasizes that uncertainties remain, particularly in regions with high wildfire activity, necessitating caution when interpreting trend analyses in such areas.\n",
      "\n",
      "In summary, the discrepancies arise from emission uncertainties, data assimilation limitations, and model structural errors, which collectively reduce the reliability of trend analyses in wildfire-impacted regions. The study underscores the need for improved fire emission inventories and higher-resolution modeling to better capture PM2.5 variability in these areas.\n"
     ]
    }
   ],
   "source": [
    "print(final[\"answer\"][0])"
   ]
  },
  {
   "cell_type": "code",
   "execution_count": 31,
   "id": "c72968a0",
   "metadata": {},
   "outputs": [
    {
     "data": {
      "text/plain": [
       "'What are the underlying factors contributing to the observed discrepancies between modeled and observed PM2.5 concentrations, especially in regions like the Pacific Northwest where wildfire activity has increased, and how might these discrepancies influence the reliability of trend analyses in such areas?'"
      ]
     },
     "execution_count": 31,
     "metadata": {},
     "output_type": "execute_result"
    }
   ],
   "source": [
    "a[0][0][1]"
   ]
  },
  {
   "cell_type": "code",
   "execution_count": 27,
   "id": "1f93c92e",
   "metadata": {},
   "outputs": [
    {
     "name": "stdout",
     "output_type": "stream",
     "text": [
      "Earth Syst. Sci. Data, 17, 1807–1834, 2025 https://doi.org/10.5194/essd-17-1807-2025 © Author(s) 2025. This work is distributed under the Creative Commons Attribution 4.0 License.\n",
      "\n",
      "\n",
      "\n",
      "# **A long-term high-resolution air quality reanalysis with a public-facing air quality dashboard over the Contiguous United States (CONUS)**\n",
      "\n",
      "Rajesh Kumar<sup>1</sup> , Piyush Bhardwaj1,\\*, Cenlin He<sup>1</sup> , Jennifer Boehnert<sup>1</sup> , Forrest Lacey<sup>1</sup> , Stefano Alessandrini<sup>1</sup> , Kevin Sampson<sup>1</sup> , Matthew Casali<sup>1</sup> , Scott Swerdlin<sup>1</sup> , Olga Wilhelmi<sup>1</sup> , Gabriele G. Pfister<sup>1</sup> , Benjamin Gaubert<sup>1</sup> , and Helen Worden<sup>1</sup>\n",
      "\n",
      "<sup>1</sup>NSF National Center for Atmospheric Research, Boulder, CO, USA \\*now at: Center for Study of Science, Technology and Policy (CSTEP), Bengaluru, India\n",
      "\n",
      "**Correspondence:** Rajesh Kumar (rkumar@ucar.edu)\n",
      "\n",
      "Received: 13 May 2024 – Discussion started: 6 June 2024 Revised: 5 November 2024 – Accepted: 11 February 2025 – Published: 7 May 2025\n",
      "\n",
      "**Abstract.** We present a 14-year, 12 km, hourly air quality dataset (https://doi.org[/10.5065/cfya-4g50,](https://doi.org/10.5065/cfya-4g50) Kumar and He, 2023) created by assimilating satellite observations of aerosol optical depth (AOD) and carbon monoxide (CO) in an air quality model to fill gaps in the contiguous United States (CONUS) air quality monitoring network and help air quality managers understand long-term changes in county-level air quality. Specifically, we assimilate the Moderate Resolution Imaging Spectroradiometer (MODIS) AOD and the Measurement of Pollution in the Troposphere (MOPITT) CO observations in the Community Multiscale Air Quality Model (CMAQ) every day from 1 January 2005 to 31 December 2018 to produce this dataset. Meteorological fields simulated with the Weather Research and Forecasting (WRF) model are used to drive CMAQ offline and to generate meteorology-dependent anthropogenic emissions. Both the weather and air quality (surface fine particulate matter (PM2.5) and ozone) simulations are subjected to a comprehensive evaluation against multi-platform observations to establish the credibility of our dataset and characterize its uncertainties. We show that our dataset captures regional hourly, seasonal, and interannual variability in meteorology very well across the CONUS. The correlation coefficient between the observed and simulated surface ozone and PM2.<sup>5</sup> concentrations for different regions defined by the Environmental Protection Agency (EPA) across the CONUS are 0.77–0.91 and 0.49–0.79, respectively. The mean bias and root-mean-square error for modeled ozone are 3.7–6.8 and 7–9 ppbv, respectively, while the corresponding values for PM2.<sup>5</sup> are −0.9–5.6 and 3.0–8.3 µg m−<sup>3</sup> , respectively. We estimate that the annual CONUS-averaged maximum daily 8 h average (MDA8) ozone and PM2.<sup>5</sup> trends are −0.30 ppb yr−<sup>1</sup> and −0.24 µg m−<sup>3</sup> yr−<sup>1</sup> , respectively. Wintertime MDA8 ozone shows an increasing but statistically insignificant trend at several sites. We also found a decreasing trend in the 95th percentile of MDA8 ozone but an increasing trend in the 5th percentile. Most of the sites in the Pacific Northwest show an increasing but statistically insignificant trend during summer. An ArcGIS air quality dashboard has been developed to enable easy visualization and interpretation of county-level air quality measures and trends by stakeholders, and a Python-based Streamlit application has been developed to allow the download of the air quality data in simplified text and graphic formats.\n",
      "\n",
      "#### **1 Introduction**\n",
      "\n",
      "Air quality is one of the most important global environmental concerns, as almost the entire global population (99 %) is estimated to breathe air that exceeds the air quality guidelines defined by the World Health Organization (WHO, 2023). Exposure to ambient air pollution causes about 4.2 million premature mortalities every year (WHO, 2020). Air quality has improved substantially over the past 2 decades in the US, with Environmental Protection Agency (EPA) observations showing that maximum daily 8 h average (MDA8) surface ozone levels have decreased by 29 % over the period from 1980 to 2021, and annual average concentrations of particulate matter with an aerodynamic diameter smaller than 2.5 µm (PM2.5) have decreased by 37 % over the period from 2000 to 2021 [\\(https://www.epa.gov/air-trends/](https://www.epa.gov/air-trends/air-quality-national-summary) [air-quality-national-summary,](https://www.epa.gov/air-trends/air-quality-national-summary) last access: 28 April 2025). However, air pollution continues to violate the National Ambient Air Quality Standards (NAAQS) in many parts of the US, such as the Colorado Front Range, California, the northeastern US, and nearly all of the national parks. A recent study reported that 97 % of US national parks suffer from significant or unsatisfactory levels of harm from air pollution (Orozco et al., 2024). Poor air quality is reported to cause about 160 000 premature deaths in the US, with a total economic loss of about USD 175 billion (Im et al., 2018). Exposure to air pollution levels even below the EPA NAAQS can adversely affect human health (Di et al., 2017). To mitigate the risks associated with air pollution and how air quality is responding to emission control policies, it is, therefore, imperative to quantify past changes in air quality.\n",
      "\n",
      "Numerous studies have revealed several key features of long-term changes in surface ozone and PM2.<sup>5</sup> over the US using long-term observations from the EPA monitoring networks. First, both urban and rural sites in the eastern US show negative ozone trends during the summer season (Butler et al., 2011; Cooper et al., 2012), but lower ozone levels at some sites have an increasing trend during winter and early spring (Bloomer et al., 2010; Cooper et al., 2012; Simon et al., 2015). Second, surface and free-tropospheric ozone show positive trends in all seasons at rural and remote sites in the western US (Jaffe and Ray, 2007; Cooper et al., 2012). Third, increasing ozone is observed in the inflow to the US west coast (Jaffe et al., 2003), over the North Pacific (Parrish et al., 2004), and in the west coast marine boundary layer (Parrish et al., 2009). The Tropospheric Ozone Assessment Report (TOAR) showed that summertime surface ozone continues to decrease over the US, but the trend is less certain at the urban sites (Chang et al., 2017; Fleming et al., 2018). Similar regional and seasonal differences in the long-term trends are also seen in PM2.<sup>5</sup> and its components. For example, carbonaceous aerosols (organic and black carbon) show a widespread decrease over the period from 1990 to 2010 across the US in winter and spring and show positive but insignificant trends over the western US (Hand et al., 2013). PM2.<sup>5</sup> levels continue to decrease over the majority of the US except in the wildfire-prone areas (McClure and Jaffe, 2018).\n",
      "\n",
      "In addition to the observation-based trend analysis, chemical transport model (CTM) simulations have been employed to interpret the observed trends. For example, the increase in lower ozone values can be attributed to the increase in Asian emissions from 1980 to 1995 (Fiore et al., 2002). The anthropogenic emissions and natural variability were found to have competing effects on surface ozone over much of the US over 1980–2005 (Pozzoli et al., 2011). Another study reproduced negative summertime ozone trends over the eastern US but underestimated the positive trends in the western US, likely due to underestimation of Asian emission trends or trans-Pacific transport or changes in stratosphere– troposphere exchange (Koumoutsaris and Bey, 2012). Lin et al. (2017) quantified the contributions of rising Asian emissions, domestic US emission controls, wildfires, and climate to changes in surface ozone from 1980 to 2014. Several studies have also quantified the contributions of wildfires to PM2.<sup>5</sup> trends in the US (Xie et al., 2020; Burke et al., 2023). While global models captured most of the observed variability and trends in summertime ozone, the use of highresolution regional models is recommended to reproduce interannual variability in winter and spring in the western US (Strode et al., 2015).\n",
      "\n",
      "Apart from the interpretation of observed trends, the CTMs also provide information in areas with no observations. However, CTM simulations suffer from both systematic (i.e., biases) and random errors due to a number of factors, including numerical approximations, inadequate understanding of some processes that control the spatial and temporal distribution of air pollutants, inaccuracies in the initialization of the physical and chemical atmospheric state, and uncertainties in the emission inventories. While continuous efforts are being made to improve the representation of processes controlling PM2.<sup>5</sup> and ozone (Appel et al., 2010, 2013, 2017; Nolte et al., 2015; Fahey et al., 2017) and emission inventories are updated by the EPA every 3 years, recent developments have shown that the assimilation of the National Aeronautics and Space Administration (NASA) satellite retrievals of atmospheric composition in CTMs can significantly improve air quality simulations (Gaubert et al., 2016; Kumar et al., 2019; Liu et al., 2011; Pagowski et al., 2014; Saide et al., 2013). NASA satellite retrievals of atmospheric constituents with a far greater spatial coverage compared to ground-based monitoring networks presents a unique opportunity to develop long-term high-resolution air quality reanalysis, which can be useful for quantifying air quality changes in unmonitored areas and assessing the impacts of changes in air quality on human health and ecosystems.\n",
      "\n",
      "This paper describes the methodology and evaluation of a long-term high-resolution regional air quality reanalysis generated over the CONUS from 2005 to 2018 by assimilating the Moderate Resolution Imaging Spectroradiometer (MODIS) aerosol optical depth (AOD) and the Measurement of Pollution in the Troposphere (MOPITT) carbon monoxide (CO) retrievals daily in the Community Multiscale Air Quality (CMAQ) model. Our regional reanalysis is based on the 3-D variational (3D-Var) approach, which is different from the 4-D variational (4D-Var) approach (Inness et al., 2019) and ensemble Kalman filter (EnKF) approaches (Gaubert et al., 2017; Miyazaki et al., 2020; Kong et al., 2021) used in recent long-term global and regional air quality reanalysis. Among these, 3D-Var is computationally the most efficient approach, as it uses only a single model simulation, but its accuracy can be limited by the assumption of a constant background error covariance matrix that both 4D-Var and EnKF address. An air quality dashboard developed to enable the use of this dataset by a variety of stakeholders is also described.\n",
      "\n",
      "# **2 Methodology**\n",
      "\n",
      "# 2.1 The chemical transport model\n",
      "\n",
      "The CMAQ model (version 5.3.2) driven offline by the Weather Research and Forecasting (WRF) model (version 4.1) is used to simulate air quality over the CONUS from 1 January 2005 to 31 December 2018. We employ the \"cb6r3\\_ae7\\_aq\" chemical mechanism that uses Carbon Bond 6 version r3 for gas-phase chemistry and the AERO7 aerosol module for representing aerosol processes, including secondary organic aerosols (Appel et al., 2021). Both the WRF and CMAQ models use a horizontal grid spacing of 12 × 12 km<sup>2</sup> , with the WRF (CMAQ) grid using 481 (442), 369 (265), and 36 (35) grid points in the longitudinal, latitudinal, and vertical directions, respectively. The model top is set to 50 hPa for both the models. The meteorological initial and boundary conditions for WRF are based on the 6-hourly ERA-Interim analyses at a grid spacing of 0.7° × 0.7°. We follow Appel et al. (2017) for physical parameterizations, 4-D data assimilation, and soil moisture nudging settings in WRF.\n",
      "\n",
      "Emissions from several anthropogenic emissions sectors, such as residential wood combustion, agricultural emissions from livestock and fertilizer applications, and mobile sources, depend on meteorological conditions. For example, ambient temperature affects the heating demand, impacts the volatilization of emissions from fertilizer use, drives airconditioning use, etc. The Sparse Matrix Operator Kernel Emissions (SMOKE) modeling system allows us to simulate these relationships. To be consistent in the use of meteorological fields for both emission processing and driving CMAQ, we generate meteorology-dependent anthropogenic emissions for the EPA National Emissions Inventory (NEI) base years of 2011, 2014, and 2017 by feeding the WRF meteorological fields to SMOKE. The emissions for 2005– 2010 are derived by applying EPA-reported annual statewise trends to the NEIv2 2011 emissions. While NEI emissions are available for 2005 and 2008, the emission processing platform for 2005 and 2008 does not process emissions for the \"cb6r3\\_ae7\\_aq\" chemical mechanism of CMAQ used here. Similarly, NEIv2 2014 emissions are used to derive emissions for 2012 and 2013, and the NEIv1 2017 emissions are used to derive anthropogenic emissions for the rest of the years. Fire emissions in CMAQ are represented using the Fire Inventory from NCAR (FINN; version 2.2), which provides daily varying global fire emissions at a 1 × 1 km<sup>2</sup> resolution (Wiedinmyer et al., 2023). FINN emissions are processed through SMOKE to enable the inline plume rise of fire emissions within CMAQ. Biogenic emissions are calculated online within the model using the Biogenic Emission Inventory System (BEIS). The chemical boundary conditions are based on 6-hourly Whole Atmosphere Community Climate Model (WACCM) simulations (Marsh et al., 2013; Gettelman et al., 2019). The WACCM output is mapped onto CMAQ grids using the Initial Conditions Processor (ICON) and Boundary Conditions Processor (BCON).\n",
      "\n",
      "# 2.2 Data assimilation system\n",
      "\n",
      "We have used the 3-D variational (3D-Var) capability of the community Gridpoint Statistical Interpolation (GSI) system (version 3.5) to assimilate the Level-2 MODIS AOD retrievals and the Level-2 MOPITT CO retrievals in CMAQ. The MODIS AOD assimilation framework is the same as we developed previously (Kumar et al., 2019), and the MO-PITT CO assimilation capability has been developed in this work. We use total aerosol mass per mode (Aitken, accumulation, and coarse) and CO mixing ratios as the control variables in GSI. The state variables include individual aerosol components, total aerosol mass per mode, CO mixing ratios, meteorological variables (temperature, pressure, and relative humidity), and the CMAQ vertical grid. Daily MODIS and MOPITT retrievals are converted into a format compatible with GSI input modules.\n",
      "\n",
      "A climatological background error covariance (BEC) matrix is generated separately for winter (January) and summer (July) conditions using the GEN\\_BE tool, which reads two different WRF-CMAQ runs driven by different meteorological and emission inputs but valid at the satellite overpass time. As there are multiple overpasses of the Terra and Aqua satellites that host the MOPITT and MODIS sensors, we calculate the BEC at 15:00, 18:00, and 21:00Z. The winter BEC is used when assimilating satellite retrievals from November through March, whereas the summer BEC is used for the rest of the months. Our BEC design considers the uncertainties in meteorology, anthropogenic emissions, and biomass burning emissions. Meteorological uncertainties are represented by using two different sets of physical parameterizations (Table A1) in two WRF runs to capture errors in meteorology related to assumptions used in physical parameterizations. Species-dependent perturbation factors for anthropogenic and biomass burning emissions are estimated by comparing a number of available global/regional anthropogenic and biomass burning emission inventories over the CONUS (Tables A2 and A3.3). Among the two WRF-CMAQ runs fed to GEN\\_BE for BEC estimation, we used the default emissions in the first run and perturbed the emissions in the second run. The BEC was then estimated in terms of variances and length scales (both horizontal and vertical) for total aerosol mass per mode and CO, and it was used in GSI. We refer the reader to Kumar et al. (2019) for a description of BEC parameters.\n",
      "\n",
      "We have assimilated standard Level-2 Collection 6.1 MODIS AOD and version 8 MOPITT CO retrievals based on the multispectral (thermal and near-infrared) algorithm in CMAQ. This multispectral product is more sensitive to near-surface CO over land compared to the thermal-infraredonly retrievals. MOPITT retrievals agree with in situ measurements within ±5 % at all vertical levels (Deeter et al., 2019). The observation errors for MODIS AOD retrievals are specified as (0.03 + 0.05 · AOD) and (0.05 + 0.15 · AOD) over the ocean and the land, respectively (Remer et al., 2005). The observation errors for CO profiles are used as reported in the MOPITT retrieval product. A simple forward operator and its adjoint based on the parameterization of Malm and Hand (2007) is used to convert the CMAQ aerosol chemical composition into AOD for a direct comparison with MODIS AOD retrievals as described in Kumar et al. (2019). The forward operator and its adjoint for MOPITT CO assimilation are developed in this study and described in Appendix A1.\n",
      "\n",
      "#### 2.3 Reanalysis production workflow\n",
      "\n",
      "Daily analyses of 3-D fields of aerosols and CO based on the assimilation of MODIS AOD and MOPITT CO retrievals in CMAQ using the GSI system has been performed using the workflow shown in Fig. 1. The first CMAQ simulation on 1 January 2005 is initialized using the global model simulations from WACCM, and all subsequent simulations until 31 December 2018 are initialized from the previous CMAQ simulations. Every day, we perform nine simulations following the availability of new satellite observations every 3 h owing to difference between Terra and Aqua overpass times. The first simulation runs CMAQ from 00:00 to 15:00Z, the second simulation assimilates MODIS Terra and Aqua AOD retrievals at 15:00Z, and the third simulation assimilates MOPITT CO retrievals at 15:00Z. The fourth simulation advances CMAQ from 15:00 to 18:00Z, with the fifth and sixth simulations assimilating MODIS AOD and MO-PITT CO at 18:00Z, respectively. The seventh simulation advances CMAQ from 18:00 to 21:00Z, the eighth simulation assimilates MODIS Aqua AOD retrievals at 21:00Z, and the ninth simulation advances CMAQ from 21:00 to 00:00Z of the next day. This resulted in a total of 46 152 jobs being submitted to the NCAR Cheyenne supercomputer [\\(https://arc.ucar.edu/knowledge\\\\_base/70549542,](https://arc.ucar.edu/knowledge_base/70549542) last access: 28 April 2025). An automated script was developed to submit and track successful completion of these jobs.\n",
      "\n",
      "The assimilation times of 15:00, 18:00, and 21:00Z were determined based on the analysis of overpass times of Terra and Aqua satellites, which pass over the CONUS between 13:30 and 22:30Z. All of the satellite retrievals belonging to a 3 h window are assumed to be available for assimilation at the center of that window. For example, all of the satellite retrievals between 13:30 and 16:30Z are assimilated at 15:00Z.\n",
      "\n",
      "Our previous work has shown that the assimilation of MODIS AOD in CMAQ improved the correlation coefficient between CMAQ-simulated and independently observed PM2.<sup>5</sup> by ∼ 67 % and reduced the mean bias by ∼ 38 % over the CONUS during July 2014. To understand whether GSI pushes CMAQ towards MOPITT, we performed and compared 1 month (July 2018) of CMAQ experiments with and without assimilation of MOPITT CO profiles. We find that the assimilation of MOPITT CO profiles substantially improves the correlation coefficient and reduces the errors (both mean bias and root-mean-square error) between CMAQ and MOPITT CO at all of the pressure levels except at 100 hPa, where the MOPITT sensitivity is the lowest (Appendix A2, Fig. A1). This simple test confirms the ability of GSI to constrain the performance of CMAQ with satellite observations. Other trace gas species (e.g., ozone and OH) are not affected directly by the assimilation of AOD and CO, but the impact of assimilation indirectly affects these species through photochemical processes in the model. For example, we found instantaneous changes in surface ozone in the range of −1.3 to 3.2 ppbv, but monthly average changes are within the range of ±0.3 ppbv during July 2018.\n",
      "\n",
      "#### 2.4 Output frequency and optimization\n",
      "\n",
      "The production of a chemical reanalysis also poses the challenge of storing the model output. As our chemical reanalysis focuses on air quality applications, we saved all of the chemical variables together with relevant meteorological parameters (2 m temperature and relative humidity, 10 m wind speed and direction, planetary boundary layer height, precipitation, and downward-reaching solar radiation) and deposition (both dry and wet) fluxes every hour at the surface. The total size of this output is 12 TB.\n",
      "\n",
      "# **3 Ground-based observations and the trend calculation method**\n",
      "\n",
      "We have obtained and processed hourly in situ measurements of 2 m temperature (T2), 2 m relative humidity (RH), 10 m wind speed (WS10), 10 m wind direction (WD10), and surface pressure from the METeorological Aerodrome Reports (METAR) network, which is distributed by the National Centers for Environmental Prediction's Meteorological Assimilation Data Ingest System (MADIS). METAR data are surface weather observations and consist of mete-\n",
      "\n",
      "\n",
      "\n",
      "**Figure 1.** Architecture of the daily CMAQ- and GSI-based chemical data assimilation workflow.\n",
      "\n",
      "orological data from airports (Automated Surface Observing Systems) and other permanent weather stations (Automated Weather Observing Systems) located throughout the US. We used the Level-3 quality-controlled METAR data over the CONUS to evaluate our modeled meteorological fields (https://doi.org[/10.5065/cfya-4g50,](https://doi.org/10.5065/cfya-4g50) Kumar and He, 2023). Daily precipitation data from the 0.1° Integrated Multi-satellitE Retrievals for Global precipitation measurements (IMERG; [https://gpm.nasa.gov/data/imerg,](https://gpm.nasa.gov/data/imerg) last access: 28 April 2025) dataset is used to evaluate WRFsimulated precipitation.\n",
      "\n",
      "To evaluate the modeled surface PM2.<sup>5</sup> and ozone concentrations, we have obtained hourly PM2.<sup>5</sup> and ozone observations from the EPA Air Quality System (AQS), which currently measures PM2.<sup>5</sup> and ozone at more than 1000 sites across the US. The AQS data also contain values below the method detection limit (MDL). The MDLs are different for ozone and PM2.<sup>5</sup> and also vary as a function of site and instrument type. For consistency, we assume MDL values of 5 ppb for ozone and 2 µg m−<sup>3</sup> for PM2.<sup>5</sup> for all sites. All of the data below the MDL were replaced by MDL/2 [\\(https:](https://www3.epa.gov/ttnamti1/files/ambient/airtox/workbook/AirtoxWkbk4Preparingdataforanalysis.pdf) [//www3.epa.gov/ttnamti1/files/ambient/airtox/workbook/](https://www3.epa.gov/ttnamti1/files/ambient/airtox/workbook/AirtoxWkbk4Preparingdataforanalysis.pdf) [AirtoxWkbk4Preparingdataforanalysis.pdf,](https://www3.epa.gov/ttnamti1/files/ambient/airtox/workbook/AirtoxWkbk4Preparingdataforanalysis.pdf) last access: 28 April 2025; [https://pubs.acs.org/doi/10.1021/es071301c,](https://pubs.acs.org/doi/10.1021/es071301c) last access: 28 April 2025). At sites for which two simultaneous measurements (corresponding to two instruments) were available, the mean value was taken for further calculation.\n",
      "\n",
      "The trend calculations were performed using both the observed and modeled ozone and PM2.<sup>5</sup> values. The monthly mean time series of observed and modeled maximum daily 8 h (MDA8) ozone and 24 h average PM2.<sup>5</sup> during 2005–2018 is calculated over all measurement sites. The daily MDA8 ozone over a site is calculated using the EPA's defined methodology [\\(https://www.govinfo.gov/](https://www.govinfo.gov/content/pkg/FR-2015-10-26/pdf/2015-26594.pdf) [content/pkg/FR-2015-10-26/pdf/2015-26594.pdf,](https://www.govinfo.gov/content/pkg/FR-2015-10-26/pdf/2015-26594.pdf) last access: 28 April 2025, 168 pp.). For each day, 8 h running averages are taken from 07:00 to 23:00 LST (local standard time), which constitutes 17 valid 8 h running mean values per day. If an 8 h window has less than 6 h of data and the mean value of the remaining hours is less than 70 ppb, the data for that window are discarded. If a site has fewer than 13 valid 8 h mean values or the maximum value of the available 8 h average is less than 70 ppb, the value for that day is discarded. For PM2.5, a daily 24 h average value is calculated in local standard time only if at least 18 h of valid data per day are available. Furthermore, we discarded (1) all sites with < 50 % data per month, (2) all sites with < 50 % data during each year, and (3) all sites for which the number of years with ≥ 50 % data was < 10 during 2005–2018. The number of valid sites fulfilling the above criteria over the CONUS is estimated to be 1012 and 369 for MDA8 ozone and 24 h PM2.5, respectively. Daily values of MDA8 ozone and 24 h PM2.<sup>5</sup> are used to calculate the monthly 5th percentile, 50th percentile, 95th percentile, and mean time series during 2005– 2018 at each valid site. A similar criterion for the seasonal mean and for the 5th, 50th, and 95th percentile time series was also used. The number of valid sites reached a maximum (1010 and 357 for MDA8 O<sup>3</sup> and 24 h PM2.5, respectively) during summer season, whereas it reached a minimum (501 and 337 for MDA8 O<sup>3</sup> and 24 h PM2.5, respectively) during the winter season. These annual and seasonal MDA8 ozone and PM2.<sup>5</sup> time series are then used to estimate annual and seasonal trends, and the significance of trend values are also tested.\n",
      "\n",
      "#### **4 Results and discussion**\n",
      "\n",
      "#### 4.1 Meteorological evaluation\n",
      "\n",
      "The WRF simulations for the entire period (2005–2018) processed using the Meteorology–Chemistry Interface Processor (MCIP) are co-located with METAR observations of T2, RH, WS10, and WD10 in space and time, and paired values are used for evaluating the model. The evaluation is performed at a regional scale, following the EPA regional classification of the CONUS, in 10 regions (see Appendix A2, Fig. A2). The number of METAR sites during 2005–2018 was 1290, and the maximum percentage of available hourly data during the study period was 33 %–68 % over 10 EPA regions. Region 8 has the fewest data (∼ 33 %–37%), and other regions have 47 %–68 % data during 2005–2018. Monthly regionally averaged model and METAR observations time series are compared over 10 EPA regions for T2 (Fig. 2), RH (Fig. 3), WS10 (Fig. 4), and WD10 (Fig. 5). Three statistical metrics, namely, the correlation coefficient (r), mean bias (MB), and root-mean-square error (RMSE), for each region are also listed in Figs. 2–5.\n",
      "\n",
      "Monthly regionally averaged T2 between the model and observations (Fig. 2) shows excellent correlations of 0.8– 1.0, low mean biases of −0.3 to 0.4 °C, and an RMSE ranging from 2.0 to 5.7 °C over the 10 EPA regions. The model also performed well (r = 0.7–0.9) with respect to simulating RH (Fig. 3) over 10 EPA regions, with mean biases of 0.9 %–3.6 % and an RMSE of 12.5 %–16.3 %. As RH is estimated as a ratio of vapor pressure to saturation pressure (es) and es depends on T2, the biases in T2 also contribute to the biases in RH. For example, EPA Region 6 shows the highest T2 RMSE and the highest RH RMSE. The model reproduces the variations in surface pressure very well (r = 1.0) with a slight underestimation (MB = −8.1 to 0.2 hPa; RMSE = 0.3–8.1 hPa). The slight underestimation in pressure is seen in 8 out of 10 EPA regions, with the largest MB in regions 9 (−8.1 hPa) and 10 (−7.4 hPa). The errors in surface pressure (plot not shown) over these regions could also contribute to biases in T2 and RH.\n",
      "\n",
      "Prior to the 10 m wind speed comparison, model wind speeds are assigned a \"zero value\" if the hourly wind speed at any site is less than 0.51 m s−<sup>1</sup> (1 knot). This step was needed to make the model output consistent with the METAR wind speed data, which treats such wind speeds as calm winds and assigns them a zero value. Our model simulation slightly overestimates (MB = 0.1–0.8 m s−<sup>1</sup> ) WS10 (Fig. 4) over most of EPA regions with the exception of Region 8 (MB = −0.1 m s−<sup>1</sup> ). Wind direction (Fig. 5) biases (absolute) over these regions were 34–58°. The correlation coefficients for both WS10 and WD10 are slightly lower in regions 8–10, likely due to the complex topography in these regions. The correlation coefficients for the 10 m wind speed were lower than those for temperature and relative humidity, indicating a slightly poorer model performance for winds. The WRF model is known to overpredict the 10 m wind speed at low to moderate wind speeds in all available planetary boundary layer (PBL) schemes (Mass and Ovens, 2010). This shortcoming of the model has been partly attributed to unresolved topographical features by the default surface drag parameterization, which in turn influences surface drag and friction velocity, and partly to the use of coarse horizontal and vertical resolutions of the domain (Cheng and Steenburgh, 2005). The WRF model also captures the seasonally averaged diurnal variations in T2, RH, and 10 m wind speed very well, but it overestimates the wind speed, particularly at night (see Appendix A2, Fig. A3).\n",
      "\n",
      "As WRF and IMERG precipitation have different resolutions, we first mapped the WRF-simulated precipitation from a 12 km × 12 km grid on a Lambert conformal projection to the IMERG rectilinear grid of 0.1° × 0.1° using the \"rcm2rgrid\" functionality of the NCAR command language [\\(https://www.ncl.ucar.edu/](https://www.ncl.ucar.edu/Document/Functions/Built-in/rcm2rgrid.shtml) [Document/Functions/Built-in/rcm2rgrid.shtml,](https://www.ncl.ucar.edu/Document/Functions/Built-in/rcm2rgrid.shtml) last access: 28 April 2025). The seasonal mean WRF-simulated and IMERG-derived precipitation values are then compared over four seasons during 2005–2018 (Fig. 6). The model is able to capture the spatial patterns in precipitation in different seasons, with an underestimation of −0.1 to −0.9 mm d−<sup>1</sup> . The highest underestimation is observed during the winter season. The eastern CONUS showed an underestimation during the winter, spring, and autumn seasons; however, over the western US, the model mostly overestimated the precipitation, especially in the mountainous regions (Rockies, Cascades, and Sierra Nevada). The model also showed larger biases over the lakes and oceanic regions. Despite the biases, this comprehensive evaluation shows that our model simulations captured the key features of the regional and temporal variability in the key meteorological parameters over the CONUS fairly well.\n",
      "\n",
      "# 4.2 Air quality evaluation\n",
      "\n",
      "Hourly regionally averaged observed and CMAQ-simulated surface ozone and PM2.<sup>5</sup> are compared for all of the EPA regions in Figs. 7 and 8, respectively. In all of the regions, the model captures the seasonal cycle in surface ozone, characterized by a summertime peak, and the observed interannual variability very well, with correlation coefficients of 0.77– 0.91. The model also overestimates the nighttime ozone levels in all of the regions (see Appendix A2, Fig. A4), but a larger overestimation is seen in regions 8 and 9. The mean bias and RMSE in modeled ozone are very similar across the regions, with values ranging from 3.7 to 6.8 and from 7.0 to 9.0 ppbv, respectively. The model shows a slightly poorer skill with respect to capturing the variability in PM2.<sup>5</sup> relative to ozone, as reflected by smaller r values of 0.49–0.79, but it captures long-term trends in most of the regions reasonably well. The mean bias and RMSE in modeled PM2.<sup>5</sup> are estimated to be −0.9 to 5.6 and 3.0 to 8.3 µg m−<sup>3</sup> , respectively. The largest underestimation of PM2.<sup>5</sup> is seen in Region 8, particularly from 2005 to 2012, while the largest overestimation is seen in Region 2.\n",
      "\n",
      "In addition to the regional evaluation, we also evaluated the model performance for different land use types and location settings (see Fig. A5 in Appendix A2 for a classification of the number of sites in these categories). This categorization information by land use and location type was not available for a very small number of sites; thus, these sites were\n",
      "\n",
      "\n",
      "\n",
      "**Figure 2.** Time series of monthly averaged 2 m temperature over 10 EPA regions (R1–R10) from the WRF-CMAQ setup (red) and METAR observations (black) during 2005–2018. Orange and gray lines represent the standard deviation for WRF-CMAQ and METAR, respectively. The correlation coefficient (r), mean bias (MB), and root-mean-square error (RMSE) for each region are also shown.\n",
      "\n",
      "excluded from the analysis (sites classified as \"NONE\" in Fig. A2). As maximum daily averaged 8 h (MDA8) ozone and daily averaged PM2.<sup>5</sup> are policy-relevant metrics, we focus on the evaluation of these parameters on a monthly averaged scale for this evaluation. We evaluate the monthly median (50th percentile) and the 5th and 95th percentile time series of MDA8 ozone and daily averaged PM2.<sup>5</sup> for different land use categories and location settings (Appendix A2, Figs. A2.6–A2.11).\n",
      "\n",
      "Among the rural sites, all land use categories showed the highest biases for the 5th percentile, followed by the median and 95th percentile for MDA8 ozone, except for the \"Others\" category, for which the median showed the lowest bias. For suburban and urban site types, the 95th percentile MDA8 ozone consistently showed the lowest bias for all land use types, followed by the median and 5th percentile. Furthermore, the Others land use category at rural and urban sites shows the lowest bias for the 5th percentile and the median, whereas the \"Residential\" land use type shows the lowest bias for the suburban sites.\n",
      "\n",
      "For PM2.5, the largest differences between the model and observations are seen for the 95th percentile for the Others land use category compared to the 5th percentile and median. The model generally captures the temporal variability in PM2.<sup>5</sup> across all land use types (except Others) and location settings for all three percentile metrics analyzed here, although some anomalies are also evident. For example, residential and commercial sites in the urban category\n",
      "\n",
      "\n",
      "\n",
      "**Figure 3.** Same as Fig. 2 but for 2 m relative humidity (RH).\n",
      "\n",
      "show a larger overestimation for the median and 95th percentiles during 2005–2006, indicating higher uncertainties in anthropogenic emission estimates at these sites during these years. While the model follows most of the observed peaks in 95th percentile, it substantially underestimates the observed peaks.\n",
      "\n",
      "The errors in air quality simulations can be attributed to the uncertainties in the different types of emissions used to drive air quality models, errors in the lateral boundary conditions representing pollution inflow, uncertainties in meteorological parameters (as quantified earlier in this section), and the poor understanding of some of the physical and chemical processes controlling the fate of those emissions. To quantify uncertainties in anthropogenic and biomass burning emissions over the CONUS, we compared all available anthropogenic and biomass burning emission inventories over the region and found that anthropogenic emission estimates across various emission inventories vary by a factor of 1.16–2.94 (Table A2) and the corresponding fire emission estimates vary by factor of 3.13–8.0 (Table A3). The extrapolation of the NEI emissions to years other than the base years might have also introduced some uncertainties in our simulations, as EPA-reported state-level trends may not always represent local (sub-state) changes in emissions and also do not provide information about new emission sources appearing in the CONUS between two NEI base emission inventory years. In addition, the observation error (0.05 + 15 % of MODIS AOD value over land; Remer et al., 2005) for MODIS AOD increases with increases in the magnitude of the AOD which, in turn, restricts the data assimilation system (GSI) in pushing the modeled AOD towards the MODIS AOD. Furthermore, the AOD retrievals do not contain any information about the\n",
      "\n",
      "\n",
      "\n",
      "**Figure 4.** Same as Fig. 2 but for 10 m wind speed.\n",
      "\n",
      "vertical distribution of aerosols; thus, GSI simply scales the modeled vertical profile to match the MODIS AOD within the constraints of observation and model error. Therefore, AOD assimilation is unable to correct for any errors in the vertical distribution of aerosols resulting from errors in the plume rise of fire emissions.\n",
      "\n",
      "#### 4.3 Trend analysis\n",
      "\n",
      "To help air quality managers and the public determine the confidence that they can put in using this reanalysis for analyzing changes in air quality in their regions, we have evaluated the trends in our CMAQ-simulated MDA8 ozone and 24 h average PM2.<sup>5</sup> against the AQS observations. The spatial distribution of positive/negative trend values in MDA8 ozone and 24 h average PM2.<sup>5</sup> calculated using monthly median values in AQS and CMAQ data during 2005–2018 are shown in Figs. 9 and 10, respectively. Different symbols are used to represent urban, suburban, and rural site types. Based on location, ∼ 42 % and 23 % of sites were in rural areas, ∼ 41 % and 45 % of sites were in suburban areas, and ∼ 17 % and 32 % of sites were in urban or city centers for MDA8 ozone and 24 h average PM2.5, respectively. Darker (lighter) red and blue colors represent statistically significant (insignificant) increasing and decreasing trends at the 2σ level. The 2σ rule is a standard way of testing the statistical significance of trends. In a normal distribution, ∼ 95 % of the data points lie within 2 standard deviations (±2σ) of the mean. If the trend falls outside this range, it is considered unlikely to have occurred by chance (i.e., at a statistical significance in the probability of less than 5 %). Over the study period, both the model and\n",
      "\n",
      "\n",
      "\n",
      "**Figure 5.** Same as Fig. 2 but for 10 m wind direction.\n",
      "\n",
      "observations show decreasing trends in MDA8 ozone over the majority of the CONUS. Most sites in the eastern US show decreasing trends that were statistically significant, with p values than 0.05. The sites located in the western or northwestern US, however, showed mixed results, with some sites showing increasing trends, most of which were not statistically significant. Similar results were observed during the summer season, with most sites showing statistically significant decreasing trends over most locations. During the autumn and winter seasons, several sites over California and the eastern US showed decreasing but insignificant trends. Some sites over the midwestern US also changed their trend sign during these seasons. The trends in the winter seasons were mostly positive over most sites in the US (except for the coastal sites in the southeastern US). About 55 % (278 of 501) of the sites showed positive trends in both AQS and CMAQ data during winter, but only ∼ 3 % (29 of 1012) of the sites showed positive trends in summer. The seasonal changes in monthly median trends discussed above were mostly consistent (67 %–86 %) between the AQS and CMAQ data. A similar analysis with the 5th and 95th percentile time series suggested that the higher percentiles showed mostly decreasing trends, but the 5th percentile dataset for the Midwestern US, Boston–New York–DC, and central US sites showed increasing trends on a seasonal and annual basis. The MDA8 ozone trend over the CONUS (1012 sites) is estimated to be −0.53 ± 0.46 and −0.56 ± 0.45 ppb yr−<sup>1</sup> (using summertime data) and −0.31 ± 0.43 and −0.29 ± 0.39 ppb yr−<sup>1</sup> (using data from all seasons) for AQS and CMAQ data, respectively, with most sites (∼ 70 %) showing negative trends. At the 2σ level (p value < 0.05), the summertime mean ozone trends are\n",
      "\n",
      "\n",
      "\n",
      "**Figure 6.** Spatial distribution of mean daily precipitation and bias during four seasons in 2005–2018 (top to bottom: winter, spring, summer, and autumn). The left-hand, center, and right-hand columns represent mean precipitation from WRF, mean precipitation from IMERG, and the precipitation bias (WRF − IMERG), respectively.\n",
      "\n",
      "−0.85 ± 0.36 and −0.75 ± 0.35 ppb yr−<sup>1</sup> for 484 and 620 respective sites, whereas annual MDA8 ozone trends are −0.52 ± 0.45 and −0.47 ± 0.42 ppb yr−<sup>1</sup> for 554 and 562 respective sites for AQS and CMAQ data, respectively, over the CONUS. This suggests decreases in monthly high-ozone days but increases in monthly low-ozone days. On an annual basis, MDA8 ozone showed the most decreasing trends (AQS and CMAQ = −0.40 ± 0.37 and −0.34 ± 0.34 ppb yr−<sup>1</sup> , respectively) at the 428 rural sites. The mean ozone trends over urban (411 sites) and suburban (170) areas were −0.28 ± 0.44 (AQS) and −0.29 ± 0.40 ppb yr−<sup>1</sup> (CMAQ) and −0.13 ± 0.48 (AQS) and −0.15 ± 0.48 ppb yr−<sup>1</sup> (CMAQ), respectively. The ozone trends over high-altitude sites (16 sites) are mostly negative in summer (AQS and CMAQ = −0.43 ± 0.45 and −0.12 ± 0.36 ppb yr−<sup>1</sup> , respectively) and on an annual basis (AQS and CMAQ, = −0.39 ± 0.38 and −0.03 ± 0.29 ppb yr−<sup>1</sup> , respectively).\n",
      "\n",
      "Similar MDA8 ozone trends were also reported in a previous study (Simon et al., 2015). Mousavinezhad et al. (2023) reported that all regions except the Northern Rockies and the southwestern US experienced decreasing trends in median MDA8 ozone values during the warm season of 1991–2020, with rural stations in the southwestern US and urban stations in the northeastern US experiencing the greatest declines of −1.29 ± 0.07 and −0.85 ± 0.08 ppb yr−<sup>1</sup> , respectively. They also reported a large decrease in the MDA8 ozone 95th percentile in all regions. Similarities in ozone trends between the AQS observations and CMAQ simulations over a longer time period (1990–2015) have also been reported by He et al. (2020).\n",
      "\n",
      "On an annual basis, the 24 h average PM2.<sup>5</sup> also showed mostly decreasing trends (∼ 79 %) over most of the sites. A majority of these trends were also statistically significant at the 2σ level (AQS and CMAQ = 70 % and 75 %, respectively). However, unlike MDA8 ozone, an increasing trend (although insignificant) in summertime PM2.<sup>5</sup> is observed over the northwestern US (Fig. 10). The wintertime trends were also mostly decreasing over most of the sites, except for the northwestern US. During the summer season an approximate 5-fold increase (annual ∼ 5 %; summer ∼ 24 %) in positive trends is observed in high-PM2.<sup>5</sup> days (95th percentile time series), with most of these increases observed over the\n",
      "\n",
      "\n",
      "\n",
      "**Figure 7.** Time series of hourly averaged surface ozone over 10 EPA regions (R1–R10) from the WRF-CMAQ setup (red) and EPA AQS observations (black) during 2005–2018. The correlation coefficient (r), mean bias (MB), and root-mean-square error (RMSE) for each region are also shown.\n",
      "\n",
      "Pacific Northwest. These summertime increases in PM2.<sup>5</sup> trends are also evident from the 95th percentile time series, where a sharp increase in PM2.<sup>5</sup> is observed during 2017– 2018 over all sites except industrial locations (see Fig. A11). In recent years, these changes could be even stronger, as wildfire activity over the western US has increased in the last decade. Dramatic decreasing trends in PM2.<sup>5</sup> in the eastern US have also been reported in previous studies (Zhang et al., 2018; Gan et al., 2015; Xing et al., 2015) (Gan et al., 2015; Xing et al., 2015; Zhang et al., 2018) due to emission reductions. The increasing trend in the western central area of the US is due, in part, to frequent wildfires (Dennison et al., 2014; McClure and Jaffe, 2018). For PM2.5, the overall mean trends are −0.24 ± 0.21 and −0.24 ± 0.24 µg m−<sup>3</sup> yr−<sup>1</sup> (369 sites) in the AQS and CMAQ datasets, respectively. Unlike MDA8 ozone, the number of sites remained almost the same (337–357 sites in the four seasons and 369 on an annual basis) during seasons, and an overall negative trend is also observed (−0.18 ± 0.25 to −0.30 ± 0.35 µg m−<sup>3</sup> yr−<sup>1</sup> ). At the 2σ level, the number of sites that showed negative trends in both the datasets was 69 %–80 %.\n",
      "\n",
      "On an annual basis, the mean PM2.<sup>5</sup> trends for the respective AQS and CMAQ datasets are −0.17 ± 0.22 and −0.18 ± 0.15 µg m−<sup>3</sup> yr−<sup>1</sup> over urban sites, −0.28 ± 0.22\n",
      "\n",
      "\n",
      "\n",
      "**Figure 8.** Same as Fig. 7 but for daily averaged surface fine particulate matter (PM2.5).\n",
      "\n",
      "and −0.24 ± 0.26 µg m−<sup>3</sup> yr−<sup>1</sup> over suburban sites, and −0.23 ± 0.21 and −0.30 ± 0.27 µg m−<sup>3</sup> yr−<sup>1</sup> over urban and city center sites. The only high-altitude site for PM2.<sup>5</sup> showed an increase in the annual trend (0.07 and 0.06 µg m−<sup>3</sup> yr−<sup>1</sup> for AQS and CMAQ data, respectively) and the summertime trend (0.13 and 0.13 µg m−<sup>3</sup> yr−<sup>1</sup> for AQS and CMAQ data, respectively). During other seasons, mostly low negative trends were observed. The ozone trends over high-altitude sites (16 sites), however, are mostly negative (−0.43 ± 0.45 and −0.12 ± 0.36 ppb yr−<sup>1</sup> in summer and −0.39 ± 0.38 and −0.03 ± 0.29 ppb yr−<sup>1</sup> annually). The ozone trends at highaltitude sites showed large seasonal variations with minimum to maximum ranges of −0.69 to 0.87 and −1.5 to 0.26 ppb yr−<sup>1</sup> for AQS and CMAQ data, respectively.\n",
      "\n",
      "#### 4.4 Air quality dashboard\n",
      "\n",
      "The comprehensive evaluation of our reanalysis in the above sections shows that our reanalysis is able to capture key features of long-term trends in both MDA8 ozone and PM2.<sup>5</sup> over most parts of the CONUS. This increases confidence in using this dataset for assessing the trends in unmonitored areas of the region. Therefore, a GIS-based dashboard has been developed to aid in community engagement and understanding of the reanalysis data. The dashboard was developed using ArcGIS Dashboards technology from Esri [\\(https://www.esri.com/en-us/arcgis/products/](https://www.esri.com/en-us/arcgis/products/arcgis-dashboards/overview) [arcgis-dashboards/overview,](https://www.esri.com/en-us/arcgis/products/arcgis-dashboards/overview) last access: 28 April 2025). An interactive web-based dashboard allows stakeholders to explore annual air quality concentrations and the number of\n",
      "\n",
      "\n",
      "\n",
      "**Figure 9.** Spatial distribution of positive (blue colors) and negative (red colors) trends in MDA8 ozone at different levels of statistical significance (p values) using annual and seasonal monthly median time series (top to bottom). Plots on the right show the differences in trend values (CMAQ − AQS).\n",
      "\n",
      "days that exceed a certain threshold over space and time. It provides a step-by-step path for users to explore information at the CONUS, state, and county levels. In the center of the dashboard is a time series chart showing trends in annual concentrations of MDA8 ozone, NO2, PM2.5, PM1, and PM<sup>10</sup> between 2005 and 2018. An indicator element of the dashboard highlights how many days between 2005 and 2018 have exceeded the National Ambient Air Quality Standards (NAAQS) for ozone and PM2.5, and a bar chart graph shows the number of days that exceeded the NAAQS each year. There is also a map that can zoom in on the selected state or county of interest and illustrates the spatial distribution of air quality variables using a quantitative color bar.\n",
      "\n",
      "The dashboard can be used to better understand how particular events, such as large wildfires, have affected air quality in certain geographic areas. For example, the 2008 wildfires in Shasta and Trinity counties in California, referred to as the \"June Fire Siege\", had a major impact on air quality [\\(https://storymaps.arcgis.](https://storymaps.arcgis.com/stories/c6535ee477e14b72a20393a5f10aefbc) [com/stories/c6535ee477e14b72a20393a5f10aefbc,](https://storymaps.arcgis.com/stories/c6535ee477e14b72a20393a5f10aefbc) last access: 28 April 2025). Figure 11 shows MDA8 ozone concentrations for Shasta County, California. The dashboard shows a sharp increase in the MDA8 ozone concentration in 2008, as depicted in the time series plot. The bar chart in the lower right-hand corner also reflects the large number of days that exceeded the NAAQS criteria for MDA8 ozone in 2008.\n",
      "\n",
      "The dashboards can also be used to visualize the efficacy of air quality management policies. For example, Los Angeles County, CA, has designed and implemented strict emission standards to improve air quality. Figure 12 shows the downward trend in PM2.<sup>5</sup> concentrations in Los Angeles County during 2005–2018. The air quality dashboard is publicly accessible at [https://ncar.maps.arcgis.com/](https://ncar.maps.arcgis.com/apps/dashboards/9a97650dc77b4f7192b99ea9bef36a21) [apps/dashboards/9a97650dc77b4f7192b99ea9bef36a21](https://ncar.maps.arcgis.com/apps/dashboards/9a97650dc77b4f7192b99ea9bef36a21) (last\n",
      "\n",
      "\n",
      "\n",
      "**Figure 10.** Spatial distribution of positive (blue colors) and negative (red colors) trends in the 24 h mean PM2.5 (right panel) at different levels of statistical significance (p values) using monthly median time series (top to bottom). Plots on the right show the differences in trend values (CMAQ − AQS).\n",
      "\n",
      "access: 28 April 2025). To ensure stakeholders have an understanding of the uncertainties, we have included the following message on the website: \"Note that mean bias of 3.7–6.8 ppbv in ozone and that of −0.9–5.6 µg m−<sup>3</sup> in PM2.<sup>5</sup> could have impacted the calculation of days exceeding the corresponding National Ambient Air Quality Standards\".\n",
      "\n",
      "We have also developed a Python-based Streamlit application that allows users to select and download data for specific time periods aggregated over administrative boundaries such as cities, counties, and states. Temporal and spatial aggregations are performed on the server, and only information of interest is downloaded and delivered to the users, taking the data processing workload off of the users. The Streamlit application allows users to select a time period, a temporal aggregation (daily, weekly, monthly, or annual), one or more air quality variables, statistics (min, mean, or max), and an area of interest (state, county, or city). The data can then be downloaded as a comma-separated value (CSV) file as well as graphed on the website, as seen in Fig. 13. The Streamlit application is available at [https://compass.rap.ucar.](https://compass.rap.ucar.edu/airquality/) [edu/airquality/](https://compass.rap.ucar.edu/airquality/) (last access: 28 April 2025).\n",
      "\n",
      "# **5 Data availability**\n",
      "\n",
      "The global meteorological datasets used to drive WRF are publicly available through the National Center for Atmospheric Research (NCAR) Research Data Archive (https://doi.org[/10.5065/D6CR5RD9,](https://doi.org/10.5065/D6CR5RD9) European Centre for Medium-Range Weather Forecasts, 2009). The SMOKE setup used to create emissions for CMAQ is accessible via the EPA Emissions Modeling Platforms [\\(https://gaftp.epa.gov/air/emismod/2011/v3platform/,](https://gaftp.epa.gov/air/emismod/2011/v3platform/) EPA, 2011; [https://gaftp.epa.gov/air/emismod/2014/v2/,](https://gaftp.epa.gov/air/emismod/2014/v2/) EPA, 2014; [https://gaftp.epa.gov/Air/emismod/2017/,](https://gaftp.epa.gov/Air/emismod/2017/) EPA, 2017).\n",
      "\n",
      "\n",
      "\n",
      "**Figure 11.** Dashboard reflecting ozone concentrations for Shasta County, CA.\n",
      "\n",
      "\n",
      "\n",
      "**Figure 12.** Dashboard reflecting PM2.5 concentrations for Los Angeles, CA.\n",
      "\n",
      "FINN biomass burning emissions can be downloaded from https://doi.org[/10.5065/XNPA-AF09](https://doi.org/10.5065/XNPA-AF09) (Wiedinmyer and Emmons, 2022). Meteorological observations used to evaluate the model performance are available from [https:](https://madis-data.cprk.ncep.noaa.gov/madisPublic1/data/archive/) [//madis-data.cprk.ncep.noaa.gov/madisPublic1/data/archive/](https://madis-data.cprk.ncep.noaa.gov/madisPublic1/data/archive/) (NOAA, 2025). The EPA AQS system observations are available from <https://www.epa.gov/aqs> (US EPA, 2025). Hourly surface output from the WRF-CMAQ-GSI system can be downloaded from https://doi.org[/10.5065/cfya-4g50](https://doi.org/10.5065/cfya-4g50) (Kumar and He, 2023).\n",
      "\n",
      "#### **6 Code availability**\n",
      "\n",
      "The WRF code is publicly accessible at [https://github.com/](https://github.com/wrf-model/WRF) [wrf-model/WRF](https://github.com/wrf-model/WRF) (Islas, 2025). The CMAQ code is publicly accessible at <https://github.com/USEPA/CMAQ> (Adams, 2025), and the GSI code is available at [https://github.com/](https://github.com/NOAA-EMC/GSI) [NOAA-EMC/GSI](https://github.com/NOAA-EMC/GSI) (Liu, 2025).\n",
      "\n",
      "\n",
      "\n",
      "**Figure 13.** The Streamlit air quality app to easily download and summarize data in a CSV format.\n",
      "\n",
      "# **7 Conclusions**\n",
      "\n",
      "Air pollution is an important health hazard affecting human health and the economy in the CONUS, yet millions of people live in counties without air quality monitors. To address this gap and help air quality managers understand long-term changes in air quality at the county level across the CONUS, we have created a 14-year-long, 12 km, hourly dataset via the daily assimilation of atmospheric composition observations from the NASA MODIS and MOPITT sensors aboard the Terra and Aqua satellites in the Community Multiscale Air Quality (CMAQ) model from 1 January 2005 to 31 December 2018. The WRF model has been used to simulate meteorological parameters, which are then used to drive CMAQ offline and to generate meteorology-dependent anthropogenic emissions.\n",
      "\n",
      "The meteorological parameters, ozone, and PM2.<sup>5</sup> have been extensively validated against multi-platform observations to characterize uncertainties in our dataset, which air quality managers need to determine the confidence that they can put in our dataset. We show that our dataset captures regional-scale hourly, seasonal, and interannual variability in the meteorological variability well across the CONUS. The model shows excellent performance with respect to simulating the regional and temporal variability in temperature and relative humidity but slightly poorer performance with respect to simulating winds and precipitation, which are wellknown shortcomings of the WRF model. The model also shows a higher skill with respect to reproducing variabilities in surface ozone (r = 0.77–0.91) compared with PM2.<sup>5</sup> (0.49–0.79). The mean biases for CMAQ ozone and PM2.<sup>5</sup> are estimated to be 3.7–6.8 ppbv and −0.9–5.6 µg m−<sup>3</sup> , respectively, and the corresponding RMSE values are 7–9 ppbv and 3.0–8.3 µg m−<sup>3</sup> , respectively.\n",
      "\n",
      "The MDA8 ozone trend over the CONUS is estimated to be −0.53 ± 0.46 and −0.56 ± 0.45 ppb yr−<sup>1</sup> (summertime) and −0.31 ± 0.43 and −0.29 ± 0.39 ppb yr−<sup>1</sup> (annual) for AQS and CMAQ data, respectively, with ∼ 70 % of sites showing negative trends. At the 2σ level, the summertime MDA8 ozone trends are −0.85 ± 0.36 and −0.75 ± 0.35 ppb yr−<sup>1</sup> and the annual MDA8 ozone trends are −0.52 ± 0.45 and −0.47 ± 0.42 ppb yr−<sup>1</sup> for AQS and CMAQ data, respectively, over the CONUS. Annually, at the 2σ level, 46 % sites showed negative trends in both of the datasets. Annual mean PM2.<sup>5</sup> trends are −0.24 ± 0.21 and −0.24 ± 0.24 µg m−<sup>3</sup> yr−<sup>1</sup> in the AQS and CMAQ datasets, respectively, and ∼ 79 % of the sites showed negative trends. Annually, at the 2σ level, 66 % of sites showed negative trends in both of the datasets. During summertime, the negative trend percentage is reduced to 71 %, where an increase in positive trends is observed in the northwestern US.\n",
      "\n",
      "An air quality dashboard has been developed that provides a step-by-step path for users to explore information at the CONUS, state, and county levels. This dashboard allows users to visualize air quality information in the form of maps, bar charts, and NAAQS exceedance days. Finally, a Pythonbased Streamlit application is developed to allow the download of air quality data in simplified text and graphic formats for the end user's choice of region and time of interest.\n",
      "\n",
      "\n"
     ]
    }
   ],
   "source": [
    "print(text1)"
   ]
  },
  {
   "cell_type": "markdown",
   "id": "3836dfaf",
   "metadata": {},
   "source": [
    "# 评估三元对"
   ]
  },
  {
   "cell_type": "code",
   "execution_count": null,
   "id": "7c160cc6",
   "metadata": {},
   "outputs": [],
   "source": []
  }
 ],
 "metadata": {
  "kernelspec": {
   "display_name": "paperins",
   "language": "python",
   "name": "python3"
  },
  "language_info": {
   "codemirror_mode": {
    "name": "ipython",
    "version": 3
   },
   "file_extension": ".py",
   "mimetype": "text/x-python",
   "name": "python",
   "nbconvert_exporter": "python",
   "pygments_lexer": "ipython3",
   "version": "3.10.4"
  }
 },
 "nbformat": 4,
 "nbformat_minor": 5
}
